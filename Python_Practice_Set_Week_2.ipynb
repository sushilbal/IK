{
  "nbformat": 4,
  "nbformat_minor": 0,
  "metadata": {
    "colab": {
      "provenance": [],
      "authorship_tag": "ABX9TyOE5qNoCs//0QMiLtCKMBw5",
      "include_colab_link": true
    },
    "kernelspec": {
      "name": "python3",
      "display_name": "Python 3"
    },
    "language_info": {
      "name": "python"
    }
  },
  "cells": [
    {
      "cell_type": "markdown",
      "metadata": {
        "id": "view-in-github",
        "colab_type": "text"
      },
      "source": [
        "<a href=\"https://colab.research.google.com/github/sushilbal/IK/blob/main/Python_Practice_Set_Week_2.ipynb\" target=\"_parent\"><img src=\"https://colab.research.google.com/assets/colab-badge.svg\" alt=\"Open In Colab\"/></a>"
      ]
    },
    {
      "cell_type": "markdown",
      "source": [
        "\n",
        "\n",
        "```\n",
        "2 Sum In A Sorted Array\n",
        "Given an array sorted in non-decreasing order and a target number, find the indices of the two values from the array that sum up to the given target number.\n",
        "{\n",
        "\"numbers\": [1, 2, 3, 5, 10],\n",
        "\"target\": 7\n",
        "}\n",
        "\n",
        "Notes\n",
        "In case when no answer exists, return an array of size two with both values equal to -1, i.e., [-1, -1].\n",
        "In case when multiple answers exist, you may return any of them.\n",
        "The order of the indices returned does not matter.\n",
        "A single index cannot be used twice.\n",
        "\n",
        "\n",
        "\n",
        "\n",
        "```\n",
        "\n"
      ],
      "metadata": {
        "id": "1nHRfpJlvDSP"
      }
    },
    {
      "cell_type": "code",
      "execution_count": 1,
      "metadata": {
        "id": "SNsyClDTu2LT"
      },
      "outputs": [],
      "source": [
        "\n",
        "\n",
        "def pair_sum_sorted_array(numbers, target):\n",
        "    \"\"\"\n",
        "    Args:\n",
        "     numbers(list_int32)\n",
        "     target(int32)\n",
        "    Returns:\n",
        "     list_int32\n",
        "    \"\"\"\n",
        "    start=0\n",
        "    end=len(numbers)-1\n",
        "    while start<end:\n",
        "      if numbers[start]+numbers[end]==target:\n",
        "          return [start,end]\n",
        "      elif numbers[start]+numbers[end] < target:\n",
        "          start+=1\n",
        "      else:\n",
        "          end-=1\n",
        "    return [-1,-1]\n"
      ]
    },
    {
      "cell_type": "code",
      "source": [
        "pair_sum_sorted_array([1, 2, 3, 5, 10],7)"
      ],
      "metadata": {
        "colab": {
          "base_uri": "https://localhost:8080/"
        },
        "id": "z7HWk8AewHKT",
        "outputId": "ff34d04d-ee21-4ef7-d9c7-b8cbb0e17241"
      },
      "execution_count": 2,
      "outputs": [
        {
          "output_type": "execute_result",
          "data": {
            "text/plain": [
              "[1, 3]"
            ]
          },
          "metadata": {},
          "execution_count": 2
        }
      ]
    },
    {
      "cell_type": "code",
      "source": [
        "pair_sum_sorted_array([-10, -7, -5, 0, 8, 10],3)"
      ],
      "metadata": {
        "colab": {
          "base_uri": "https://localhost:8080/"
        },
        "id": "lSNg5nSmwQzN",
        "outputId": "a2b9c54f-db9d-4eea-f6ac-2e2b3eb57b41"
      },
      "execution_count": 3,
      "outputs": [
        {
          "output_type": "execute_result",
          "data": {
            "text/plain": [
              "[1, 5]"
            ]
          },
          "metadata": {},
          "execution_count": 3
        }
      ]
    },
    {
      "cell_type": "code",
      "source": [
        "pair_sum_sorted_array([-9, -7, -5, -3, -1],100)"
      ],
      "metadata": {
        "colab": {
          "base_uri": "https://localhost:8080/"
        },
        "id": "bJvCyiwPwesF",
        "outputId": "f8c19b5e-e2e1-40b3-9308-b0de80aea567"
      },
      "execution_count": 4,
      "outputs": [
        {
          "output_type": "execute_result",
          "data": {
            "text/plain": [
              "[-1, -1]"
            ]
          },
          "metadata": {},
          "execution_count": 4
        }
      ]
    },
    {
      "cell_type": "markdown",
      "source": [
        "Majority Element\n",
        "\n",
        "Find the majority element in a given list. For a list of size n, the majority element is the element that appears more than floor(n/2) times.\n",
        "\n",
        "{\n",
        "\"nums\": [3, 3, 3, 2, 2, 2, 3]\n",
        "}\n",
        "\n",
        "3 occurs 4 times which is greater than ⌊7/2⌋ = 3 times.\n",
        "\n",
        "Note:\n",
        "The majority element will always exist in the input list.\n",
        "floor(x) or ⌊x⌋ denotes the floor value of any real number x. Floor value of any real number x is the greatest integer less than or equal to x.\n",
        "\n",
        "\n"
      ],
      "metadata": {
        "id": "o8FDOAGCwrUJ"
      }
    },
    {
      "cell_type": "code",
      "source": [
        "\n",
        "def majority_element(nums):\n",
        "    \"\"\"\n",
        "    Args:\n",
        "     nums(list_int32)\n",
        "    Returns:\n",
        "     int32\n",
        "    \"\"\"\n",
        "    map={} # Default it is a Dict and not a Set\n",
        "    for ele in nums:\n",
        "      if ele in map:\n",
        "        map[ele]+=1\n",
        "      else:\n",
        "        map[ele]=1\n",
        "      if map[ele] > len(nums)//2:\n",
        "        return ele\n",
        "\n"
      ],
      "metadata": {
        "id": "_i1uziK5w_TU"
      },
      "execution_count": 5,
      "outputs": []
    },
    {
      "cell_type": "code",
      "source": [
        "majority_element([3, 3, 3, 2, 2, 2, 3])"
      ],
      "metadata": {
        "colab": {
          "base_uri": "https://localhost:8080/"
        },
        "id": "NhH2q03AxtId",
        "outputId": "797174ce-74ae-4ee6-ab1b-29f55a1f8ff5"
      },
      "execution_count": 6,
      "outputs": [
        {
          "output_type": "execute_result",
          "data": {
            "text/plain": [
              "3"
            ]
          },
          "metadata": {},
          "execution_count": 6
        }
      ]
    },
    {
      "cell_type": "code",
      "source": [
        "majority_element([-1, -1, -1])"
      ],
      "metadata": {
        "colab": {
          "base_uri": "https://localhost:8080/"
        },
        "id": "WNRoWKSQxxpc",
        "outputId": "0f3d50b0-5aa5-4e54-941a-48b8cdd1c2df"
      },
      "execution_count": 7,
      "outputs": [
        {
          "output_type": "execute_result",
          "data": {
            "text/plain": [
              "-1"
            ]
          },
          "metadata": {},
          "execution_count": 7
        }
      ]
    },
    {
      "cell_type": "code",
      "source": [
        "majority_element([0, 0, 1, 1, 0, 0])"
      ],
      "metadata": {
        "colab": {
          "base_uri": "https://localhost:8080/"
        },
        "id": "tM-azEaPx40t",
        "outputId": "c2de0e65-fa24-4f66-95e5-2577f972fb43"
      },
      "execution_count": 8,
      "outputs": [
        {
          "output_type": "execute_result",
          "data": {
            "text/plain": [
              "0"
            ]
          },
          "metadata": {},
          "execution_count": 8
        }
      ]
    },
    {
      "cell_type": "markdown",
      "source": [
        "\n",
        "Check If An Array Contains Duplicates\n",
        "\n",
        "Check if any element occurs more than once in a given list of numbers. Return true if an array contains duplicates, else return false.\n",
        "\n",
        "{\n",
        "\"nums\": [10, 30, 10, 20]\n",
        "}\n",
        "\n"
      ],
      "metadata": {
        "id": "bp4gI5Ycx_sH"
      }
    },
    {
      "cell_type": "code",
      "source": [
        "\n",
        "def check_if_array_contains_duplicate(nums):\n",
        "    \"\"\"\n",
        "    Args:\n",
        "     nums(list_int32)\n",
        "    Returns:\n",
        "     bool\n",
        "    \"\"\"\n",
        "\n",
        "    return len(set(nums)) != len(nums)\n"
      ],
      "metadata": {
        "id": "MbrP9u1SyQ4N"
      },
      "execution_count": 9,
      "outputs": []
    },
    {
      "cell_type": "code",
      "source": [
        "check_if_array_contains_duplicate([10, 30, 10, 20])"
      ],
      "metadata": {
        "colab": {
          "base_uri": "https://localhost:8080/"
        },
        "id": "ZB9tkmF9yjvS",
        "outputId": "82e13eea-f8f2-4219-bf1c-0fa3a466278b"
      },
      "execution_count": 10,
      "outputs": [
        {
          "output_type": "execute_result",
          "data": {
            "text/plain": [
              "True"
            ]
          },
          "metadata": {},
          "execution_count": 10
        }
      ]
    },
    {
      "cell_type": "code",
      "source": [
        "check_if_array_contains_duplicate([5, 10, 15, 20])"
      ],
      "metadata": {
        "colab": {
          "base_uri": "https://localhost:8080/"
        },
        "id": "gPAAVEyhynlP",
        "outputId": "0063f51f-f8c8-46fd-8914-5c75d44748a4"
      },
      "execution_count": 11,
      "outputs": [
        {
          "output_type": "execute_result",
          "data": {
            "text/plain": [
              "False"
            ]
          },
          "metadata": {},
          "execution_count": 11
        }
      ]
    },
    {
      "cell_type": "markdown",
      "source": [
        "Intersection Of Two Sorted Arrays\n",
        "\n",
        "Given two integer arrays sorted in non-decreasing order, find the intersection of both the arrays.\n",
        "\n",
        "{\n",
        "\"numbers1\": [1, 2, 2, 6, 7],\n",
        "\"numbers2\": [2, 2, 7, 7]\n",
        "}\n",
        "\n",
        "[2, 7]\n",
        "\n",
        "NOTES:\n",
        "Intersection should be free of duplicates and sorted in ascending order.\n",
        "If there is no element common in both the arrays, return [-1]."
      ],
      "metadata": {
        "id": "GQ7lHewMyzFw"
      }
    },
    {
      "cell_type": "code",
      "source": [
        "\n",
        "def get_intersection(numbers1, numbers2):\n",
        "    \"\"\"\n",
        "    Args:\n",
        "     numbers1(list_int32)\n",
        "     numbers2(list_int32)\n",
        "    Returns:\n",
        "     list_int32\n",
        "    \"\"\"\n",
        "\n",
        "    l=list(set(numbers1).intersection(numbers2))\n",
        "    l.sort()\n",
        "    return l if len(l)>0 else [-1]\n"
      ],
      "metadata": {
        "id": "6CGT6VVWyqim"
      },
      "execution_count": 17,
      "outputs": []
    },
    {
      "cell_type": "code",
      "source": [
        "get_intersection([1, 2, 2, 6, 7],[2, 2, 7, 7])"
      ],
      "metadata": {
        "colab": {
          "base_uri": "https://localhost:8080/"
        },
        "id": "JbLAiy6XzVv8",
        "outputId": "675f9975-874b-4157-ac35-8f68a0cb8b86"
      },
      "execution_count": 18,
      "outputs": [
        {
          "output_type": "execute_result",
          "data": {
            "text/plain": [
              "[2, 7]"
            ]
          },
          "metadata": {},
          "execution_count": 18
        }
      ]
    },
    {
      "cell_type": "code",
      "source": [
        "get_intersection([5, 9, 11],[1, 4, 10, 12])"
      ],
      "metadata": {
        "colab": {
          "base_uri": "https://localhost:8080/"
        },
        "id": "vIl3QjNTzfAR",
        "outputId": "01390af0-f18e-41f8-ff2d-e6b92bd5d1e0"
      },
      "execution_count": 19,
      "outputs": [
        {
          "output_type": "execute_result",
          "data": {
            "text/plain": [
              "[-1]"
            ]
          },
          "metadata": {},
          "execution_count": 19
        }
      ]
    },
    {
      "cell_type": "markdown",
      "source": [
        "\n",
        "\n",
        "Single Number\n",
        "\n",
        "Given a list of numbers in which each number appears exactly twice except one number that appears only once. Find the number that appears exactly once.\n",
        "(Try solving this in linear time complexity without using any extra space!)\n",
        "\n",
        "\n",
        "{\n",
        "\"arr\": [2, 1, 2, 5, 1]\n",
        "}\n",
        "\n",
        "5"
      ],
      "metadata": {
        "id": "dNC1boA50Jzm"
      }
    },
    {
      "cell_type": "code",
      "source": [
        "\n",
        "def single_number(arr):\n",
        "    \"\"\"\n",
        "    Args:\n",
        "     arr(list_int32)\n",
        "    Returns:\n",
        "     int32\n",
        "    \"\"\"\n",
        "    xor=0\n",
        "    for n in arr:\n",
        "      xor=xor^n\n",
        "\n",
        "    return xor\n",
        "\n",
        "def single_number_math_solution(arr):\n",
        "    \"\"\"\n",
        "    Args:\n",
        "     arr(list_int32)\n",
        "    Returns:\n",
        "     int32\n",
        "    \"\"\"\n",
        "    ideal_total=sum(set(arr))*2\n",
        "\n",
        "\n",
        "    return ideal_total-sum(arr)\n"
      ],
      "metadata": {
        "id": "ja0RXYFjz3n2"
      },
      "execution_count": 23,
      "outputs": []
    },
    {
      "cell_type": "code",
      "source": [
        "single_number_math_solution( [2, 1, 2, 5, 1])"
      ],
      "metadata": {
        "colab": {
          "base_uri": "https://localhost:8080/"
        },
        "id": "Szg0bsOA0k10",
        "outputId": "6a9d8224-934f-4680-b495-2517f68b34f6"
      },
      "execution_count": 24,
      "outputs": [
        {
          "output_type": "execute_result",
          "data": {
            "text/plain": [
              "5"
            ]
          },
          "metadata": {},
          "execution_count": 24
        }
      ]
    },
    {
      "cell_type": "code",
      "source": [
        "single_number_math_solution([1, 1, 3])"
      ],
      "metadata": {
        "colab": {
          "base_uri": "https://localhost:8080/"
        },
        "id": "8vCO4CzJ0oZ0",
        "outputId": "a618ca06-ae73-453b-9c02-34b93ec6caaa"
      },
      "execution_count": 25,
      "outputs": [
        {
          "output_type": "execute_result",
          "data": {
            "text/plain": [
              "3"
            ]
          },
          "metadata": {},
          "execution_count": 25
        }
      ]
    },
    {
      "cell_type": "code",
      "source": [
        "single_number([1, 1, 0, -1000000000, 0, 3, 3])"
      ],
      "metadata": {
        "colab": {
          "base_uri": "https://localhost:8080/"
        },
        "id": "Vv14Z1GX00Qz",
        "outputId": "8885bff4-c4f1-45a3-c19c-d33630ed2ff4"
      },
      "execution_count": 26,
      "outputs": [
        {
          "output_type": "execute_result",
          "data": {
            "text/plain": [
              "-1000000000"
            ]
          },
          "metadata": {},
          "execution_count": 26
        }
      ]
    },
    {
      "cell_type": "code",
      "source": [],
      "metadata": {
        "id": "JO6kbBTk1XVl"
      },
      "execution_count": null,
      "outputs": []
    },
    {
      "cell_type": "markdown",
      "source": [
        "Squares Of A Sorted Array\n",
        "\n",
        "Given an array of numbers sorted in increasing order, generate another array containing the square of all the elements in the given array, sorted in increasing order.\n",
        "\n",
        "{\n",
        "\"numbers\": [1, 2, 3, 4]\n",
        "}\n",
        "\n",
        "[1, 4, 9, 16]"
      ],
      "metadata": {
        "id": "YtZCNtgj1g_w"
      }
    },
    {
      "cell_type": "code",
      "source": [
        "\n",
        "def generate_sorted_array_of_squares(numbers):\n",
        "    \"\"\"\n",
        "    Args:\n",
        "     numbers(list_int32)\n",
        "    Returns:\n",
        "     list_int32\n",
        "    \"\"\"\n",
        "    # Write your code here.\n",
        "    return [x*x for x in numbers]\n"
      ],
      "metadata": {
        "id": "xrb0qH9J1oj5"
      },
      "execution_count": 28,
      "outputs": []
    },
    {
      "cell_type": "code",
      "source": [
        "generate_sorted_array_of_squares([1, 2, 3, 4,10] )"
      ],
      "metadata": {
        "colab": {
          "base_uri": "https://localhost:8080/"
        },
        "id": "uVlUnwih12wG",
        "outputId": "89d22d02-6071-4baa-c2e0-e45bed61cb86"
      },
      "execution_count": 31,
      "outputs": [
        {
          "output_type": "execute_result",
          "data": {
            "text/plain": [
              "[1, 4, 9, 16, 100]"
            ]
          },
          "metadata": {},
          "execution_count": 31
        }
      ]
    },
    {
      "cell_type": "code",
      "source": [],
      "metadata": {
        "id": "QGc2mqiJ2Bgd"
      },
      "execution_count": null,
      "outputs": []
    },
    {
      "cell_type": "markdown",
      "source": [
        "Maximum Sum Subarray\n",
        "\n",
        "Given a list of integers, find the sum of a non-empty subarray that has the largest sum.\n",
        "\n",
        "{\n",
        "\"numbers\": [2, -6, 3, 4, -5]\n",
        "}\n",
        "\n",
        "7\n",
        "\n",
        "{\n",
        "\"numbers\": [-7, -9, -3, -5]\n",
        "}\n",
        "\n",
        "-3\n",
        "\n",
        "Notes\n",
        "A subarray is an array composed of a contiguous block of the original array's elements."
      ],
      "metadata": {
        "id": "7xSmySDj2Krg"
      }
    },
    {
      "cell_type": "code",
      "source": [
        "\n",
        "def find_maximum_sum_subarray(numbers):\n",
        "    \"\"\"\n",
        "    Args:\n",
        "     numbers(list_int32)\n",
        "    Returns:\n",
        "     int32\n",
        "    \"\"\"\n",
        "    max_sum=numbers[0]\n",
        "    temp_sum=numbers[1]\n",
        "    for i in range(1,len(numbers)):\n",
        "      temp_sum=max(temp_sum+numbers[i],numbers[i])\n",
        "      max_sum=max(max_sum,temp_sum)\n",
        "\n",
        "    return max_sum\n"
      ],
      "metadata": {
        "id": "feflu-0I2URi"
      },
      "execution_count": 33,
      "outputs": []
    },
    {
      "cell_type": "code",
      "source": [
        "find_maximum_sum_subarray([2, -6, 3, 4, -5] )"
      ],
      "metadata": {
        "colab": {
          "base_uri": "https://localhost:8080/"
        },
        "id": "R4GDbhH_28uh",
        "outputId": "b8fe85f2-a62c-48fe-e762-ce949b7e9d78"
      },
      "execution_count": 34,
      "outputs": [
        {
          "output_type": "execute_result",
          "data": {
            "text/plain": [
              "7"
            ]
          },
          "metadata": {},
          "execution_count": 34
        }
      ]
    },
    {
      "cell_type": "code",
      "source": [
        "find_maximum_sum_subarray([-7, -9, -3, -5])"
      ],
      "metadata": {
        "colab": {
          "base_uri": "https://localhost:8080/"
        },
        "id": "RlAUFkSs3Dih",
        "outputId": "0265dc01-6564-4e40-d980-a7dc211db2c7"
      },
      "execution_count": 39,
      "outputs": [
        {
          "output_type": "execute_result",
          "data": {
            "text/plain": [
              "-3"
            ]
          },
          "metadata": {},
          "execution_count": 39
        }
      ]
    },
    {
      "cell_type": "code",
      "source": [],
      "metadata": {
        "id": "3JQMlGhY3HD4"
      },
      "execution_count": null,
      "outputs": []
    },
    {
      "cell_type": "markdown",
      "source": [
        "Find Winner Of Election\n",
        "\n",
        "Given a list of votes, containing names of candidates in an election, find which candidate received maximum number of votes. If two or more candidate got the same number of votes, return the lexicographically smaller name.\n",
        "\n",
        "{\n",
        "\"votes\": [\"sam\", \"john\", \"jamie\", \"sam\"]\n",
        "}\n",
        "\n",
        "sam\n",
        "\n",
        "{\n",
        "\"votes\": [\"sam\", \"john\", \"sam\", \"john\"]\n",
        "}\n",
        "\n",
        "john"
      ],
      "metadata": {
        "id": "nqNY35l63YX7"
      }
    },
    {
      "cell_type": "code",
      "source": [
        "\n",
        "def find_winner(votes):\n",
        "    \"\"\"\n",
        "    Args:\n",
        "     votes(list_str)\n",
        "    Returns:\n",
        "     str\n",
        "    \"\"\"\n",
        "    winners=dict()\n",
        "\n",
        "    for vote in sorted(votes):\n",
        "      if vote in winners:\n",
        "        winners[vote]+=1\n",
        "      else:\n",
        "        winners[vote]=1\n",
        "\n",
        "    return max(winners.keys(), key= (lambda x : winners[x]))\n"
      ],
      "metadata": {
        "id": "pc7VBCMY3ix7"
      },
      "execution_count": 52,
      "outputs": []
    },
    {
      "cell_type": "code",
      "source": [
        "find_winner([\"sam\", \"john\", \"sam\", \"john\"])"
      ],
      "metadata": {
        "colab": {
          "base_uri": "https://localhost:8080/",
          "height": 35
        },
        "id": "LZ5NPsJU30RI",
        "outputId": "85e41245-a4a7-41c8-b71a-6e15898b275b"
      },
      "execution_count": 53,
      "outputs": [
        {
          "output_type": "execute_result",
          "data": {
            "text/plain": [
              "'john'"
            ],
            "application/vnd.google.colaboratory.intrinsic+json": {
              "type": "string"
            }
          },
          "metadata": {},
          "execution_count": 53
        }
      ]
    },
    {
      "cell_type": "code",
      "source": [
        "find_winner([\"sam1\", \"jamie\", \"sam1\", \"aon\"])"
      ],
      "metadata": {
        "colab": {
          "base_uri": "https://localhost:8080/",
          "height": 35
        },
        "id": "vKdUWq0r4RZ5",
        "outputId": "3533b1f3-488b-4246-a1df-a334cf05af91"
      },
      "execution_count": 54,
      "outputs": [
        {
          "output_type": "execute_result",
          "data": {
            "text/plain": [
              "'sam1'"
            ],
            "application/vnd.google.colaboratory.intrinsic+json": {
              "type": "string"
            }
          },
          "metadata": {},
          "execution_count": 54
        }
      ]
    },
    {
      "cell_type": "code",
      "source": [
        "find_winner([\"sam\", \"john\", \"jamie\", \"sam\"] )"
      ],
      "metadata": {
        "colab": {
          "base_uri": "https://localhost:8080/",
          "height": 35
        },
        "id": "9__Lk29m4ufp",
        "outputId": "cc5ca6d2-4e28-4476-cfc8-813bb5a3ab8b"
      },
      "execution_count": 55,
      "outputs": [
        {
          "output_type": "execute_result",
          "data": {
            "text/plain": [
              "'sam'"
            ],
            "application/vnd.google.colaboratory.intrinsic+json": {
              "type": "string"
            }
          },
          "metadata": {},
          "execution_count": 55
        }
      ]
    },
    {
      "cell_type": "code",
      "source": [],
      "metadata": {
        "id": "VY0kE39F455A"
      },
      "execution_count": null,
      "outputs": []
    }
  ]
}