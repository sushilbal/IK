{
  "nbformat": 4,
  "nbformat_minor": 0,
  "metadata": {
    "colab": {
      "provenance": [],
      "authorship_tag": "ABX9TyPjBUFlq3W4UyQb7SKSRl64",
      "include_colab_link": true
    },
    "kernelspec": {
      "name": "python3",
      "display_name": "Python 3"
    },
    "language_info": {
      "name": "python"
    }
  },
  "cells": [
    {
      "cell_type": "markdown",
      "metadata": {
        "id": "view-in-github",
        "colab_type": "text"
      },
      "source": [
        "<a href=\"https://colab.research.google.com/github/sushilbal/IK/blob/main/Python_Fundamentals_practice_question_set.ipynb\" target=\"_parent\"><img src=\"https://colab.research.google.com/assets/colab-badge.svg\" alt=\"Open In Colab\"/></a>"
      ]
    },
    {
      "cell_type": "code",
      "execution_count": 12,
      "metadata": {
        "id": "7chsFJpVYdRj"
      },
      "outputs": [],
      "source": [
        "def pair_sum_sorted_array(numbers, target):\n",
        "    \"\"\"\n",
        "    Args:\n",
        "     numbers(list_int32)\n",
        "     target(int32)\n",
        "    Returns:\n",
        "     list_int32\n",
        "    \"\"\"\n",
        "    # Write your code here.\n",
        "    for i,n in enumerate(numbers):\n",
        "        find=target-n\n",
        "        print(i,find)\n",
        "        if find in numbers[i+1:]:\n",
        "            sub=numbers[i+1:]\n",
        "            print(sub,numbers[i+1:].index(find))\n",
        "            return [i,numbers[i+1:].index(find)+i+1]\n",
        "\n",
        "    return [-1,-1]"
      ]
    },
    {
      "cell_type": "code",
      "source": [
        "pair_sum_sorted_array([1, 2, 3, 5, 10],7)"
      ],
      "metadata": {
        "colab": {
          "base_uri": "https://localhost:8080/"
        },
        "id": "-e_HB29CYj97",
        "outputId": "972a7cf0-9fe5-4090-83a9-606eff21fa42"
      },
      "execution_count": 13,
      "outputs": [
        {
          "output_type": "stream",
          "name": "stdout",
          "text": [
            "0 6\n",
            "1 5\n",
            "[3, 5, 10] 1\n"
          ]
        },
        {
          "output_type": "execute_result",
          "data": {
            "text/plain": [
              "[1, 3]"
            ]
          },
          "metadata": {},
          "execution_count": 13
        }
      ]
    },
    {
      "cell_type": "code",
      "source": [
        "\n",
        "def get_intersection(numbers1, numbers2):\n",
        "    \"\"\"\n",
        "    Args:\n",
        "     numbers1(list_int32)\n",
        "     numbers2(list_int32)\n",
        "    Returns:\n",
        "     list_int32\n",
        "    \"\"\"\n",
        "    # Write your code here.\n",
        "    set1=set(numbers1)\n",
        "    set2=set(numbers2)\n",
        "    intersection=list(set1.intersection(set2))\n",
        "    print(intersection.sort())\n",
        "    return intersection\n"
      ],
      "metadata": {
        "id": "TnFABlgiY3Li"
      },
      "execution_count": 20,
      "outputs": []
    },
    {
      "cell_type": "code",
      "source": [
        "get_intersection([1, 2, 2, 6, 7],[2, 2, 7, 7])"
      ],
      "metadata": {
        "colab": {
          "base_uri": "https://localhost:8080/"
        },
        "id": "vR0R2jwwc8w4",
        "outputId": "c48e094e-68bc-4575-8925-1eb26c58482c"
      },
      "execution_count": 21,
      "outputs": [
        {
          "output_type": "stream",
          "name": "stdout",
          "text": [
            "None\n"
          ]
        },
        {
          "output_type": "execute_result",
          "data": {
            "text/plain": [
              "[2, 7]"
            ]
          },
          "metadata": {},
          "execution_count": 21
        }
      ]
    },
    {
      "cell_type": "code",
      "source": [
        "len([])"
      ],
      "metadata": {
        "colab": {
          "base_uri": "https://localhost:8080/"
        },
        "id": "jiMFhxjldIrt",
        "outputId": "e47c1574-f51c-4cbc-8640-28fb0f11a984"
      },
      "execution_count": 22,
      "outputs": [
        {
          "output_type": "execute_result",
          "data": {
            "text/plain": [
              "0"
            ]
          },
          "metadata": {},
          "execution_count": 22
        }
      ]
    },
    {
      "cell_type": "code",
      "source": [
        "s1={1,2}\n",
        "s2={3,4}\n",
        "len(s1.intersection(s2))"
      ],
      "metadata": {
        "colab": {
          "base_uri": "https://localhost:8080/"
        },
        "id": "YNJwXMoaeZXZ",
        "outputId": "03dc88b0-1a2b-4802-8567-e1c45734789f"
      },
      "execution_count": 24,
      "outputs": [
        {
          "output_type": "execute_result",
          "data": {
            "text/plain": [
              "0"
            ]
          },
          "metadata": {},
          "execution_count": 24
        }
      ]
    },
    {
      "cell_type": "code",
      "source": [
        "x=[2,4,1,5,3].sort()"
      ],
      "metadata": {
        "id": "SWpMPSceeizY"
      },
      "execution_count": 26,
      "outputs": []
    },
    {
      "cell_type": "code",
      "source": [
        "print(x)"
      ],
      "metadata": {
        "colab": {
          "base_uri": "https://localhost:8080/"
        },
        "id": "YbAR-bJGhTMf",
        "outputId": "0b9c6043-31ca-48f2-df3c-ae94c0b64faa"
      },
      "execution_count": 28,
      "outputs": [
        {
          "output_type": "stream",
          "name": "stdout",
          "text": [
            "None\n"
          ]
        }
      ]
    },
    {
      "cell_type": "code",
      "source": [
        "\n",
        "\n",
        "def find_winner(votes):\n",
        "    unique=set(votes)\n",
        "    vote_count=dict()\n",
        "    for e in unique:\n",
        "       vote_count[e]=votes.count(e)\n",
        "    d=dict(filter(lambda item:item[1]==max(vote_count.values()),vote_count.items()))\n",
        "    sorted(d.items())\n",
        "\n",
        "    #print(l[0])\n",
        "    print(vote_count)\n",
        "    sorted(d)\n",
        "    print(d)\n",
        "    for k,v in d.items():\n",
        "      print(k)"
      ],
      "metadata": {
        "id": "awpubZzwhVoO"
      },
      "execution_count": 67,
      "outputs": []
    },
    {
      "cell_type": "code",
      "source": [
        "find_winner([\"sam\", \"john\", \"jamie\", \"sam\",\"john\"])"
      ],
      "metadata": {
        "colab": {
          "base_uri": "https://localhost:8080/"
        },
        "id": "eDYJ9UBELvs6",
        "outputId": "b0caba9a-8436-4e49-e82b-3dfd95796534"
      },
      "execution_count": 69,
      "outputs": [
        {
          "output_type": "stream",
          "name": "stdout",
          "text": [
            "{'jamie': 1, 'sam': 2, 'john': 2}\n",
            "{'sam': 2, 'john': 2}\n",
            "sam\n",
            "john\n"
          ]
        }
      ]
    },
    {
      "cell_type": "code",
      "source": [
        "def findMajority(votes):\n",
        "  count=0\n",
        "  candidate=None\n",
        "  for vote in votes:\n",
        "    if count==0:\n",
        "      candidate=vote\n",
        "      count+=0\n",
        "\n",
        "    count+= 1 if candidate==vote else -1\n",
        "\n",
        "  print(candidate)\n",
        "  return candidate"
      ],
      "metadata": {
        "id": "OEye7b-5L5Qh"
      },
      "execution_count": 70,
      "outputs": []
    },
    {
      "cell_type": "code",
      "source": [
        "findMajority([\"sam\", \"john\", \"jamie\", \"sam\"])"
      ],
      "metadata": {
        "colab": {
          "base_uri": "https://localhost:8080/",
          "height": 53
        },
        "id": "lMk6ioZnniJa",
        "outputId": "7c37f3a6-ca75-49ed-befc-c9cb4ccf246b"
      },
      "execution_count": 47,
      "outputs": [
        {
          "output_type": "stream",
          "name": "stdout",
          "text": [
            "jamie\n"
          ]
        },
        {
          "output_type": "execute_result",
          "data": {
            "text/plain": [
              "'jamie'"
            ],
            "application/vnd.google.colaboratory.intrinsic+json": {
              "type": "string"
            }
          },
          "metadata": {},
          "execution_count": 47
        }
      ]
    },
    {
      "cell_type": "code",
      "source": [
        "for i in range(5):\n",
        "  print (i)"
      ],
      "metadata": {
        "colab": {
          "base_uri": "https://localhost:8080/"
        },
        "id": "9CoDUS1Vnoji",
        "outputId": "4b128109-2992-440a-c82d-0b67dff5fa1d"
      },
      "execution_count": 3,
      "outputs": [
        {
          "output_type": "stream",
          "name": "stdout",
          "text": [
            "0\n",
            "1\n",
            "2\n",
            "3\n",
            "4\n"
          ]
        }
      ]
    },
    {
      "cell_type": "code",
      "source": [
        "def find_maximum_sum_subarray(numbers):\n",
        "    \"\"\"\n",
        "    Args:\n",
        "     numbers(list_int32)\n",
        "    Returns:\n",
        "     int32\n",
        "    \"\"\"\n",
        "    # Write your code here.\n",
        "\n",
        "    t=min(numbers)\n",
        "\n",
        "    for i in range(len(numbers)):\n",
        "        counter=len(numbers)\n",
        "        while(counter>i):\n",
        "            s=sum(numbers[i:counter])\n",
        "            print(numbers[i:counter])\n",
        "            t= s if s > t else t\n",
        "            counter-=1\n",
        "\n",
        "\n",
        "    print(t)\n",
        "    return t"
      ],
      "metadata": {
        "id": "ibhOn53zfeN1"
      },
      "execution_count": 18,
      "outputs": []
    },
    {
      "cell_type": "code",
      "source": [
        "find_maximum_sum_subarray([2, -6, 3, 4, -5])"
      ],
      "metadata": {
        "colab": {
          "base_uri": "https://localhost:8080/"
        },
        "id": "IUkwjIXehRO2",
        "outputId": "344d7312-75ac-4482-96af-94756ae604e9"
      },
      "execution_count": 19,
      "outputs": [
        {
          "output_type": "stream",
          "name": "stdout",
          "text": [
            "[2, -6, 3, 4, -5]\n",
            "[2, -6, 3, 4]\n",
            "[2, -6, 3]\n",
            "[2, -6]\n",
            "[2]\n",
            "[-6, 3, 4, -5]\n",
            "[-6, 3, 4]\n",
            "[-6, 3]\n",
            "[-6]\n",
            "[3, 4, -5]\n",
            "[3, 4]\n",
            "[3]\n",
            "[4, -5]\n",
            "[4]\n",
            "[-5]\n",
            "7\n"
          ]
        },
        {
          "output_type": "execute_result",
          "data": {
            "text/plain": [
              "7"
            ]
          },
          "metadata": {},
          "execution_count": 19
        }
      ]
    },
    {
      "cell_type": "code",
      "source": [
        "find_maximum_sum_subarray([-7, -9, -3, -5])"
      ],
      "metadata": {
        "colab": {
          "base_uri": "https://localhost:8080/"
        },
        "id": "MQG7nLSMhWct",
        "outputId": "8755eadf-6ca9-47f9-9a1a-3be8c5538414"
      },
      "execution_count": 20,
      "outputs": [
        {
          "output_type": "stream",
          "name": "stdout",
          "text": [
            "[-7, -9, -3, -5]\n",
            "[-7, -9, -3]\n",
            "[-7, -9]\n",
            "[-7]\n",
            "[-9, -3, -5]\n",
            "[-9, -3]\n",
            "[-9]\n",
            "[-3, -5]\n",
            "[-3]\n",
            "[-5]\n",
            "-3\n"
          ]
        },
        {
          "output_type": "execute_result",
          "data": {
            "text/plain": [
              "-3"
            ]
          },
          "metadata": {},
          "execution_count": 20
        }
      ]
    },
    {
      "cell_type": "code",
      "source": [
        "map={\"sk\":4,\"sc\":9,\"ak\":7,\"l\":1}\n"
      ],
      "metadata": {
        "id": "qxSvyVwShbGE"
      },
      "execution_count": 52,
      "outputs": []
    },
    {
      "cell_type": "code",
      "source": [
        "map=sorted(map.items(),key=lambda item : (item[1],item[0]),reverse=True)"
      ],
      "metadata": {
        "id": "gpMoMngjpgIT"
      },
      "execution_count": 43,
      "outputs": []
    },
    {
      "cell_type": "code",
      "source": [
        "map"
      ],
      "metadata": {
        "colab": {
          "base_uri": "https://localhost:8080/"
        },
        "id": "tYRsLEBgpx6z",
        "outputId": "d1d0439e-b4c9-4cd9-ae8c-f21bc5a72124"
      },
      "execution_count": 49,
      "outputs": [
        {
          "output_type": "execute_result",
          "data": {
            "text/plain": [
              "[('sc', 9), ('ak', 7), ('sk', 4), ('l', 1)]"
            ]
          },
          "metadata": {},
          "execution_count": 49
        }
      ]
    },
    {
      "cell_type": "code",
      "source": [
        "map[0][0]"
      ],
      "metadata": {
        "colab": {
          "base_uri": "https://localhost:8080/",
          "height": 35
        },
        "id": "q4zPE3xRq36j",
        "outputId": "6647ff7f-56ee-4913-cc95-96e1a7cdde78"
      },
      "execution_count": 51,
      "outputs": [
        {
          "output_type": "execute_result",
          "data": {
            "text/plain": [
              "'sc'"
            ],
            "application/vnd.google.colaboratory.intrinsic+json": {
              "type": "string"
            }
          },
          "metadata": {},
          "execution_count": 51
        }
      ]
    },
    {
      "cell_type": "code",
      "source": [
        "map[0]"
      ],
      "metadata": {
        "colab": {
          "base_uri": "https://localhost:8080/",
          "height": 35
        },
        "id": "1F98aO1erJsh",
        "outputId": "1d74e750-1242-4535-d79a-d4af49229fa0"
      },
      "execution_count": 38,
      "outputs": [
        {
          "output_type": "execute_result",
          "data": {
            "text/plain": [
              "'ak'"
            ],
            "application/vnd.google.colaboratory.intrinsic+json": {
              "type": "string"
            }
          },
          "metadata": {},
          "execution_count": 38
        }
      ]
    },
    {
      "cell_type": "code",
      "source": [
        "def find_winner(votes):\n",
        "\n",
        "    \"\"\"\n",
        "    Args:\n",
        "     votes(list_str)\n",
        "    Returns:\n",
        "     str\n",
        "    \"\"\"\n",
        "    # Write your code here.\n",
        "\n",
        "    unique=set(votes)\n",
        "    vote_count=dict()\n",
        "    for e in unique:\n",
        "       vote_count[e]=votes.count(e)\n",
        "    d=dict(filter(lambda item:item[1]==max(vote_count.values()),vote_count.items()))\n",
        "    print(vote_count,d)\n",
        "    if(len(d)>1):\n",
        "        d=dict(filter(lambda item:item[0]==min(d.keys()),d))\n",
        "\n",
        "\n",
        "\n",
        "    print(d)\n",
        "    #return list(d.keys())[0]"
      ],
      "metadata": {
        "id": "79sDrocprO-g"
      },
      "execution_count": 92,
      "outputs": []
    },
    {
      "cell_type": "code",
      "source": [
        "find_winner([\"sam\", \"john\", \"sam\", \"john\"])"
      ],
      "metadata": {
        "colab": {
          "base_uri": "https://localhost:8080/"
        },
        "id": "3d6BbWgVz82V",
        "outputId": "58e7ca29-9cd8-4efe-c207-69623635980b"
      },
      "execution_count": 93,
      "outputs": [
        {
          "output_type": "stream",
          "name": "stdout",
          "text": [
            "{'john': 2, 'sam': 2} {'john': 2, 'sam': 2}\n",
            "{}\n"
          ]
        }
      ]
    },
    {
      "cell_type": "code",
      "source": [
        "l=[\"sc\"]*6"
      ],
      "metadata": {
        "id": "zCmuua66yJ21"
      },
      "execution_count": 100,
      "outputs": []
    },
    {
      "cell_type": "code",
      "source": [
        "l"
      ],
      "metadata": {
        "colab": {
          "base_uri": "https://localhost:8080/"
        },
        "id": "0SelTtmTyaGi",
        "outputId": "3a8fb817-e4f1-464f-ae7e-63f6e4ce257c"
      },
      "execution_count": 101,
      "outputs": [
        {
          "output_type": "execute_result",
          "data": {
            "text/plain": [
              "['sc', 'sc', 'sc', 'sc', 'sc', 'sc']"
            ]
          },
          "metadata": {},
          "execution_count": 101
        }
      ]
    },
    {
      "cell_type": "code",
      "source": [
        "l.extend(['sk']*6)"
      ],
      "metadata": {
        "id": "vYveN8kryaj7"
      },
      "execution_count": 102,
      "outputs": []
    },
    {
      "cell_type": "code",
      "source": [
        "l.extend(['ak']*3)"
      ],
      "metadata": {
        "id": "N88mHy8ByhMn"
      },
      "execution_count": 103,
      "outputs": []
    },
    {
      "cell_type": "code",
      "source": [
        "l.extend([\"lm\"]*2)"
      ],
      "metadata": {
        "id": "Xozkqyriyhsf"
      },
      "execution_count": 104,
      "outputs": []
    },
    {
      "cell_type": "code",
      "source": [
        "l"
      ],
      "metadata": {
        "colab": {
          "base_uri": "https://localhost:8080/"
        },
        "id": "bvdrCeSkzCQ5",
        "outputId": "9d5f770c-782d-4ee9-8eb5-23e9347c1400"
      },
      "execution_count": 105,
      "outputs": [
        {
          "output_type": "execute_result",
          "data": {
            "text/plain": [
              "['sc',\n",
              " 'sc',\n",
              " 'sc',\n",
              " 'sc',\n",
              " 'sc',\n",
              " 'sc',\n",
              " 'sk',\n",
              " 'sk',\n",
              " 'sk',\n",
              " 'sk',\n",
              " 'sk',\n",
              " 'sk',\n",
              " 'ak',\n",
              " 'ak',\n",
              " 'ak',\n",
              " 'lm',\n",
              " 'lm']"
            ]
          },
          "metadata": {},
          "execution_count": 105
        }
      ]
    },
    {
      "cell_type": "code",
      "source": [
        "find_winner(l)"
      ],
      "metadata": {
        "colab": {
          "base_uri": "https://localhost:8080/"
        },
        "id": "u6PdsRKFzC7B",
        "outputId": "fe5ef2b0-d24b-46d1-86aa-84bca2313a70"
      },
      "execution_count": 106,
      "outputs": [
        {
          "output_type": "stream",
          "name": "stdout",
          "text": [
            "{'lm': 2, 'sc': 6, 'sk': 6, 'ak': 3} {'sc': 6, 'sk': 6}\n",
            "{}\n"
          ]
        }
      ]
    },
    {
      "cell_type": "code",
      "source": [
        "\n",
        "def find_winner_test(votes):\n",
        "    \"\"\"\n",
        "    Args:\n",
        "     votes(list_str)\n",
        "    Returns:\n",
        "     str\n",
        "    \"\"\"\n",
        "    # Write your code here.\n",
        "    winners=dict()\n",
        "    for vote in votes:\n",
        "        if vote in winners:\n",
        "            winners[vote]+=1\n",
        "        else:\n",
        "            winners[vote]=1\n",
        "\n",
        "    print(max(winners.keys(),key=lambda x:x))\n",
        "\n",
        "    winners=dict(sorted(winners.items(),key=lambda item:(item[1],item[0])))\n",
        "    winners=dict(filter(lambda item:item[1]==max(winners.values()),winners.items()))\n",
        "\n",
        "    print(list(winners.keys())[0])\n",
        "\n"
      ],
      "metadata": {
        "id": "9mpN4xzyzGTi"
      },
      "execution_count": 115,
      "outputs": []
    },
    {
      "cell_type": "code",
      "source": [
        "find_winner_test(l)"
      ],
      "metadata": {
        "colab": {
          "base_uri": "https://localhost:8080/"
        },
        "id": "-51V0LHo2J1-",
        "outputId": "6ac5be0b-2757-4498-a0d6-6eaccfa3a8df"
      },
      "execution_count": 116,
      "outputs": [
        {
          "output_type": "stream",
          "name": "stdout",
          "text": [
            "sk\n",
            "sc\n"
          ]
        }
      ]
    },
    {
      "cell_type": "code",
      "source": [],
      "metadata": {
        "id": "3lmILs1X2Tr5"
      },
      "execution_count": null,
      "outputs": []
    }
  ]
}