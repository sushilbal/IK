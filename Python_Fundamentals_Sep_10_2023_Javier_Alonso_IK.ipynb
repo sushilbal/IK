{
  "nbformat": 4,
  "nbformat_minor": 0,
  "metadata": {
    "colab": {
      "provenance": [],
      "authorship_tag": "ABX9TyOhQfF3Qy4M/68JgNceV5vo",
      "include_colab_link": true
    },
    "kernelspec": {
      "name": "python3",
      "display_name": "Python 3"
    },
    "language_info": {
      "name": "python"
    }
  },
  "cells": [
    {
      "cell_type": "markdown",
      "metadata": {
        "id": "view-in-github",
        "colab_type": "text"
      },
      "source": [
        "<a href=\"https://colab.research.google.com/github/sushilbal/IK/blob/main/Python_Fundamentals_Sep_10_2023_Javier_Alonso_IK.ipynb\" target=\"_parent\"><img src=\"https://colab.research.google.com/assets/colab-badge.svg\" alt=\"Open In Colab\"/></a>"
      ]
    },
    {
      "cell_type": "code",
      "execution_count": 2,
      "metadata": {
        "colab": {
          "base_uri": "https://localhost:8080/"
        },
        "id": "dSe-v6XA6FsO",
        "outputId": "57056e1f-5298-4932-fbfb-0fcfd4878f4c"
      },
      "outputs": [
        {
          "output_type": "execute_result",
          "data": {
            "text/plain": [
              "True"
            ]
          },
          "metadata": {},
          "execution_count": 2
        }
      ],
      "source": [
        "4<6"
      ]
    },
    {
      "cell_type": "code",
      "source": [
        "print(\"my age is {0}\".format(int(5)))"
      ],
      "metadata": {
        "colab": {
          "base_uri": "https://localhost:8080/"
        },
        "id": "eFyZOPRZGkSQ",
        "outputId": "d5f04c8a-989b-4bf6-fe50-7072e26b86e4"
      },
      "execution_count": 6,
      "outputs": [
        {
          "output_type": "stream",
          "name": "stdout",
          "text": [
            "my age is 5\n"
          ]
        }
      ]
    },
    {
      "cell_type": "code",
      "source": [
        "arr=[x for x in range(6)];\n",
        "arr"
      ],
      "metadata": {
        "colab": {
          "base_uri": "https://localhost:8080/"
        },
        "id": "aWjp6ZrHOYoE",
        "outputId": "528ebf42-83be-48a6-e8eb-adadbfe8f280"
      },
      "execution_count": 2,
      "outputs": [
        {
          "output_type": "execute_result",
          "data": {
            "text/plain": [
              "[0, 1, 2, 3, 4, 5]"
            ]
          },
          "metadata": {},
          "execution_count": 2
        }
      ]
    },
    {
      "cell_type": "code",
      "source": [
        "result=[]\n",
        "position=2\n",
        "for n in range(len(arr)-1):\n",
        "    if position-1==n:\n",
        "        result.append('x')\n",
        "    result.append(arr[n])\n",
        "print(result)"
      ],
      "metadata": {
        "colab": {
          "base_uri": "https://localhost:8080/"
        },
        "id": "y8bntc58Iql_",
        "outputId": "5af4b7e1-6187-4f6f-b4a8-f49ef3c8cc01"
      },
      "execution_count": 5,
      "outputs": [
        {
          "output_type": "stream",
          "name": "stdout",
          "text": [
            "[0, 'x', 1, 2, 3, 4]\n"
          ]
        }
      ]
    },
    {
      "cell_type": "code",
      "source": [],
      "metadata": {
        "colab": {
          "base_uri": "https://localhost:8080/",
          "height": 176
        },
        "id": "gE3HyuTHJJeQ",
        "outputId": "d286f716-0668-458d-fdfc-7281f2394f00"
      },
      "execution_count": 9,
      "outputs": [
        {
          "output_type": "error",
          "ename": "ValueError",
          "evalue": "ignored",
          "traceback": [
            "\u001b[0;31m---------------------------------------------------------------------------\u001b[0m",
            "\u001b[0;31mValueError\u001b[0m                                Traceback (most recent call last)",
            "\u001b[0;32m<ipython-input-9-d3806ea85aa6>\u001b[0m in \u001b[0;36m<cell line: 1>\u001b[0;34m()\u001b[0m\n\u001b[0;32m----> 1\u001b[0;31m \u001b[0mx\u001b[0m\u001b[0;34m=\u001b[0m\u001b[0marr\u001b[0m\u001b[0;34m.\u001b[0m\u001b[0mindex\u001b[0m\u001b[0;34m(\u001b[0m\u001b[0;36m10\u001b[0m\u001b[0;34m)\u001b[0m\u001b[0;34m\u001b[0m\u001b[0;34m\u001b[0m\u001b[0m\n\u001b[0m",
            "\u001b[0;31mValueError\u001b[0m: 10 is not in list"
          ]
        }
      ]
    },
    {
      "cell_type": "code",
      "source": [
        "arr=[1,2,3,3,3,4,5,5,6]"
      ],
      "metadata": {
        "id": "54S0084eNatf"
      },
      "execution_count": 10,
      "outputs": []
    },
    {
      "cell_type": "code",
      "source": [
        "arr.remove(3)"
      ],
      "metadata": {
        "id": "yfkouDnnOdps"
      },
      "execution_count": 11,
      "outputs": []
    },
    {
      "cell_type": "code",
      "source": [
        "arr"
      ],
      "metadata": {
        "colab": {
          "base_uri": "https://localhost:8080/"
        },
        "id": "ZdiL4Vs6OfdD",
        "outputId": "184e62e1-40fa-4282-8a76-2f68b7f579b0"
      },
      "execution_count": 12,
      "outputs": [
        {
          "output_type": "execute_result",
          "data": {
            "text/plain": [
              "[1, 2, 3, 3, 4, 5, 5, 6]"
            ]
          },
          "metadata": {},
          "execution_count": 12
        }
      ]
    },
    {
      "cell_type": "code",
      "source": [
        "arr.remove(5)\n",
        "arr"
      ],
      "metadata": {
        "colab": {
          "base_uri": "https://localhost:8080/"
        },
        "id": "xcy13HnvOgD7",
        "outputId": "2737cd44-efc0-428a-c61d-09789e6f9e8b"
      },
      "execution_count": 13,
      "outputs": [
        {
          "output_type": "execute_result",
          "data": {
            "text/plain": [
              "[1, 2, 3, 3, 4, 5, 6]"
            ]
          },
          "metadata": {},
          "execution_count": 13
        }
      ]
    },
    {
      "cell_type": "code",
      "source": [
        "arr=\"best technical interview prep courses\".split()\n",
        "print(arr)"
      ],
      "metadata": {
        "colab": {
          "base_uri": "https://localhost:8080/"
        },
        "id": "pQjJ8Km3OjUr",
        "outputId": "17401274-2317-44eb-8ca4-9446fd821695"
      },
      "execution_count": 15,
      "outputs": [
        {
          "output_type": "stream",
          "name": "stdout",
          "text": [
            "['best', 'technical', 'interview', 'prep', 'courses']\n"
          ]
        }
      ]
    },
    {
      "cell_type": "code",
      "source": [
        "arr.reverse()"
      ],
      "metadata": {
        "id": "8cqw8_LFRIIw"
      },
      "execution_count": 16,
      "outputs": []
    },
    {
      "cell_type": "code",
      "source": [
        "arr"
      ],
      "metadata": {
        "colab": {
          "base_uri": "https://localhost:8080/"
        },
        "id": "SZrmNrwFRVBo",
        "outputId": "12b51584-ab79-47b9-c1fb-c34d3f2e1174"
      },
      "execution_count": 17,
      "outputs": [
        {
          "output_type": "execute_result",
          "data": {
            "text/plain": [
              "['courses', 'prep', 'interview', 'technical', 'best']"
            ]
          },
          "metadata": {},
          "execution_count": 17
        }
      ]
    },
    {
      "cell_type": "code",
      "source": [
        "help(str)"
      ],
      "metadata": {
        "colab": {
          "base_uri": "https://localhost:8080/"
        },
        "id": "cnl6_k_DRWDI",
        "outputId": "15c8f5d7-291a-4b85-9e77-efa1aa25371c"
      },
      "execution_count": 19,
      "outputs": [
        {
          "output_type": "stream",
          "name": "stdout",
          "text": [
            "Help on class str in module builtins:\n",
            "\n",
            "class str(object)\n",
            " |  str(object='') -> str\n",
            " |  str(bytes_or_buffer[, encoding[, errors]]) -> str\n",
            " |  \n",
            " |  Create a new string object from the given object. If encoding or\n",
            " |  errors is specified, then the object must expose a data buffer\n",
            " |  that will be decoded using the given encoding and error handler.\n",
            " |  Otherwise, returns the result of object.__str__() (if defined)\n",
            " |  or repr(object).\n",
            " |  encoding defaults to sys.getdefaultencoding().\n",
            " |  errors defaults to 'strict'.\n",
            " |  \n",
            " |  Methods defined here:\n",
            " |  \n",
            " |  __add__(self, value, /)\n",
            " |      Return self+value.\n",
            " |  \n",
            " |  __contains__(self, key, /)\n",
            " |      Return key in self.\n",
            " |  \n",
            " |  __eq__(self, value, /)\n",
            " |      Return self==value.\n",
            " |  \n",
            " |  __format__(self, format_spec, /)\n",
            " |      Return a formatted version of the string as described by format_spec.\n",
            " |  \n",
            " |  __ge__(self, value, /)\n",
            " |      Return self>=value.\n",
            " |  \n",
            " |  __getattribute__(self, name, /)\n",
            " |      Return getattr(self, name).\n",
            " |  \n",
            " |  __getitem__(self, key, /)\n",
            " |      Return self[key].\n",
            " |  \n",
            " |  __getnewargs__(...)\n",
            " |  \n",
            " |  __gt__(self, value, /)\n",
            " |      Return self>value.\n",
            " |  \n",
            " |  __hash__(self, /)\n",
            " |      Return hash(self).\n",
            " |  \n",
            " |  __iter__(self, /)\n",
            " |      Implement iter(self).\n",
            " |  \n",
            " |  __le__(self, value, /)\n",
            " |      Return self<=value.\n",
            " |  \n",
            " |  __len__(self, /)\n",
            " |      Return len(self).\n",
            " |  \n",
            " |  __lt__(self, value, /)\n",
            " |      Return self<value.\n",
            " |  \n",
            " |  __mod__(self, value, /)\n",
            " |      Return self%value.\n",
            " |  \n",
            " |  __mul__(self, value, /)\n",
            " |      Return self*value.\n",
            " |  \n",
            " |  __ne__(self, value, /)\n",
            " |      Return self!=value.\n",
            " |  \n",
            " |  __repr__(self, /)\n",
            " |      Return repr(self).\n",
            " |  \n",
            " |  __rmod__(self, value, /)\n",
            " |      Return value%self.\n",
            " |  \n",
            " |  __rmul__(self, value, /)\n",
            " |      Return value*self.\n",
            " |  \n",
            " |  __sizeof__(self, /)\n",
            " |      Return the size of the string in memory, in bytes.\n",
            " |  \n",
            " |  __str__(self, /)\n",
            " |      Return str(self).\n",
            " |  \n",
            " |  capitalize(self, /)\n",
            " |      Return a capitalized version of the string.\n",
            " |      \n",
            " |      More specifically, make the first character have upper case and the rest lower\n",
            " |      case.\n",
            " |  \n",
            " |  casefold(self, /)\n",
            " |      Return a version of the string suitable for caseless comparisons.\n",
            " |  \n",
            " |  center(self, width, fillchar=' ', /)\n",
            " |      Return a centered string of length width.\n",
            " |      \n",
            " |      Padding is done using the specified fill character (default is a space).\n",
            " |  \n",
            " |  count(...)\n",
            " |      S.count(sub[, start[, end]]) -> int\n",
            " |      \n",
            " |      Return the number of non-overlapping occurrences of substring sub in\n",
            " |      string S[start:end].  Optional arguments start and end are\n",
            " |      interpreted as in slice notation.\n",
            " |  \n",
            " |  encode(self, /, encoding='utf-8', errors='strict')\n",
            " |      Encode the string using the codec registered for encoding.\n",
            " |      \n",
            " |      encoding\n",
            " |        The encoding in which to encode the string.\n",
            " |      errors\n",
            " |        The error handling scheme to use for encoding errors.\n",
            " |        The default is 'strict' meaning that encoding errors raise a\n",
            " |        UnicodeEncodeError.  Other possible values are 'ignore', 'replace' and\n",
            " |        'xmlcharrefreplace' as well as any other name registered with\n",
            " |        codecs.register_error that can handle UnicodeEncodeErrors.\n",
            " |  \n",
            " |  endswith(...)\n",
            " |      S.endswith(suffix[, start[, end]]) -> bool\n",
            " |      \n",
            " |      Return True if S ends with the specified suffix, False otherwise.\n",
            " |      With optional start, test S beginning at that position.\n",
            " |      With optional end, stop comparing S at that position.\n",
            " |      suffix can also be a tuple of strings to try.\n",
            " |  \n",
            " |  expandtabs(self, /, tabsize=8)\n",
            " |      Return a copy where all tab characters are expanded using spaces.\n",
            " |      \n",
            " |      If tabsize is not given, a tab size of 8 characters is assumed.\n",
            " |  \n",
            " |  find(...)\n",
            " |      S.find(sub[, start[, end]]) -> int\n",
            " |      \n",
            " |      Return the lowest index in S where substring sub is found,\n",
            " |      such that sub is contained within S[start:end].  Optional\n",
            " |      arguments start and end are interpreted as in slice notation.\n",
            " |      \n",
            " |      Return -1 on failure.\n",
            " |  \n",
            " |  format(...)\n",
            " |      S.format(*args, **kwargs) -> str\n",
            " |      \n",
            " |      Return a formatted version of S, using substitutions from args and kwargs.\n",
            " |      The substitutions are identified by braces ('{' and '}').\n",
            " |  \n",
            " |  format_map(...)\n",
            " |      S.format_map(mapping) -> str\n",
            " |      \n",
            " |      Return a formatted version of S, using substitutions from mapping.\n",
            " |      The substitutions are identified by braces ('{' and '}').\n",
            " |  \n",
            " |  index(...)\n",
            " |      S.index(sub[, start[, end]]) -> int\n",
            " |      \n",
            " |      Return the lowest index in S where substring sub is found,\n",
            " |      such that sub is contained within S[start:end].  Optional\n",
            " |      arguments start and end are interpreted as in slice notation.\n",
            " |      \n",
            " |      Raises ValueError when the substring is not found.\n",
            " |  \n",
            " |  isalnum(self, /)\n",
            " |      Return True if the string is an alpha-numeric string, False otherwise.\n",
            " |      \n",
            " |      A string is alpha-numeric if all characters in the string are alpha-numeric and\n",
            " |      there is at least one character in the string.\n",
            " |  \n",
            " |  isalpha(self, /)\n",
            " |      Return True if the string is an alphabetic string, False otherwise.\n",
            " |      \n",
            " |      A string is alphabetic if all characters in the string are alphabetic and there\n",
            " |      is at least one character in the string.\n",
            " |  \n",
            " |  isascii(self, /)\n",
            " |      Return True if all characters in the string are ASCII, False otherwise.\n",
            " |      \n",
            " |      ASCII characters have code points in the range U+0000-U+007F.\n",
            " |      Empty string is ASCII too.\n",
            " |  \n",
            " |  isdecimal(self, /)\n",
            " |      Return True if the string is a decimal string, False otherwise.\n",
            " |      \n",
            " |      A string is a decimal string if all characters in the string are decimal and\n",
            " |      there is at least one character in the string.\n",
            " |  \n",
            " |  isdigit(self, /)\n",
            " |      Return True if the string is a digit string, False otherwise.\n",
            " |      \n",
            " |      A string is a digit string if all characters in the string are digits and there\n",
            " |      is at least one character in the string.\n",
            " |  \n",
            " |  isidentifier(self, /)\n",
            " |      Return True if the string is a valid Python identifier, False otherwise.\n",
            " |      \n",
            " |      Call keyword.iskeyword(s) to test whether string s is a reserved identifier,\n",
            " |      such as \"def\" or \"class\".\n",
            " |  \n",
            " |  islower(self, /)\n",
            " |      Return True if the string is a lowercase string, False otherwise.\n",
            " |      \n",
            " |      A string is lowercase if all cased characters in the string are lowercase and\n",
            " |      there is at least one cased character in the string.\n",
            " |  \n",
            " |  isnumeric(self, /)\n",
            " |      Return True if the string is a numeric string, False otherwise.\n",
            " |      \n",
            " |      A string is numeric if all characters in the string are numeric and there is at\n",
            " |      least one character in the string.\n",
            " |  \n",
            " |  isprintable(self, /)\n",
            " |      Return True if the string is printable, False otherwise.\n",
            " |      \n",
            " |      A string is printable if all of its characters are considered printable in\n",
            " |      repr() or if it is empty.\n",
            " |  \n",
            " |  isspace(self, /)\n",
            " |      Return True if the string is a whitespace string, False otherwise.\n",
            " |      \n",
            " |      A string is whitespace if all characters in the string are whitespace and there\n",
            " |      is at least one character in the string.\n",
            " |  \n",
            " |  istitle(self, /)\n",
            " |      Return True if the string is a title-cased string, False otherwise.\n",
            " |      \n",
            " |      In a title-cased string, upper- and title-case characters may only\n",
            " |      follow uncased characters and lowercase characters only cased ones.\n",
            " |  \n",
            " |  isupper(self, /)\n",
            " |      Return True if the string is an uppercase string, False otherwise.\n",
            " |      \n",
            " |      A string is uppercase if all cased characters in the string are uppercase and\n",
            " |      there is at least one cased character in the string.\n",
            " |  \n",
            " |  join(self, iterable, /)\n",
            " |      Concatenate any number of strings.\n",
            " |      \n",
            " |      The string whose method is called is inserted in between each given string.\n",
            " |      The result is returned as a new string.\n",
            " |      \n",
            " |      Example: '.'.join(['ab', 'pq', 'rs']) -> 'ab.pq.rs'\n",
            " |  \n",
            " |  ljust(self, width, fillchar=' ', /)\n",
            " |      Return a left-justified string of length width.\n",
            " |      \n",
            " |      Padding is done using the specified fill character (default is a space).\n",
            " |  \n",
            " |  lower(self, /)\n",
            " |      Return a copy of the string converted to lowercase.\n",
            " |  \n",
            " |  lstrip(self, chars=None, /)\n",
            " |      Return a copy of the string with leading whitespace removed.\n",
            " |      \n",
            " |      If chars is given and not None, remove characters in chars instead.\n",
            " |  \n",
            " |  partition(self, sep, /)\n",
            " |      Partition the string into three parts using the given separator.\n",
            " |      \n",
            " |      This will search for the separator in the string.  If the separator is found,\n",
            " |      returns a 3-tuple containing the part before the separator, the separator\n",
            " |      itself, and the part after it.\n",
            " |      \n",
            " |      If the separator is not found, returns a 3-tuple containing the original string\n",
            " |      and two empty strings.\n",
            " |  \n",
            " |  removeprefix(self, prefix, /)\n",
            " |      Return a str with the given prefix string removed if present.\n",
            " |      \n",
            " |      If the string starts with the prefix string, return string[len(prefix):].\n",
            " |      Otherwise, return a copy of the original string.\n",
            " |  \n",
            " |  removesuffix(self, suffix, /)\n",
            " |      Return a str with the given suffix string removed if present.\n",
            " |      \n",
            " |      If the string ends with the suffix string and that suffix is not empty,\n",
            " |      return string[:-len(suffix)]. Otherwise, return a copy of the original\n",
            " |      string.\n",
            " |  \n",
            " |  replace(self, old, new, count=-1, /)\n",
            " |      Return a copy with all occurrences of substring old replaced by new.\n",
            " |      \n",
            " |        count\n",
            " |          Maximum number of occurrences to replace.\n",
            " |          -1 (the default value) means replace all occurrences.\n",
            " |      \n",
            " |      If the optional argument count is given, only the first count occurrences are\n",
            " |      replaced.\n",
            " |  \n",
            " |  rfind(...)\n",
            " |      S.rfind(sub[, start[, end]]) -> int\n",
            " |      \n",
            " |      Return the highest index in S where substring sub is found,\n",
            " |      such that sub is contained within S[start:end].  Optional\n",
            " |      arguments start and end are interpreted as in slice notation.\n",
            " |      \n",
            " |      Return -1 on failure.\n",
            " |  \n",
            " |  rindex(...)\n",
            " |      S.rindex(sub[, start[, end]]) -> int\n",
            " |      \n",
            " |      Return the highest index in S where substring sub is found,\n",
            " |      such that sub is contained within S[start:end].  Optional\n",
            " |      arguments start and end are interpreted as in slice notation.\n",
            " |      \n",
            " |      Raises ValueError when the substring is not found.\n",
            " |  \n",
            " |  rjust(self, width, fillchar=' ', /)\n",
            " |      Return a right-justified string of length width.\n",
            " |      \n",
            " |      Padding is done using the specified fill character (default is a space).\n",
            " |  \n",
            " |  rpartition(self, sep, /)\n",
            " |      Partition the string into three parts using the given separator.\n",
            " |      \n",
            " |      This will search for the separator in the string, starting at the end. If\n",
            " |      the separator is found, returns a 3-tuple containing the part before the\n",
            " |      separator, the separator itself, and the part after it.\n",
            " |      \n",
            " |      If the separator is not found, returns a 3-tuple containing two empty strings\n",
            " |      and the original string.\n",
            " |  \n",
            " |  rsplit(self, /, sep=None, maxsplit=-1)\n",
            " |      Return a list of the substrings in the string, using sep as the separator string.\n",
            " |      \n",
            " |        sep\n",
            " |          The separator used to split the string.\n",
            " |      \n",
            " |          When set to None (the default value), will split on any whitespace\n",
            " |          character (including \\\\n \\\\r \\\\t \\\\f and spaces) and will discard\n",
            " |          empty strings from the result.\n",
            " |        maxsplit\n",
            " |          Maximum number of splits (starting from the left).\n",
            " |          -1 (the default value) means no limit.\n",
            " |      \n",
            " |      Splitting starts at the end of the string and works to the front.\n",
            " |  \n",
            " |  rstrip(self, chars=None, /)\n",
            " |      Return a copy of the string with trailing whitespace removed.\n",
            " |      \n",
            " |      If chars is given and not None, remove characters in chars instead.\n",
            " |  \n",
            " |  split(self, /, sep=None, maxsplit=-1)\n",
            " |      Return a list of the substrings in the string, using sep as the separator string.\n",
            " |      \n",
            " |        sep\n",
            " |          The separator used to split the string.\n",
            " |      \n",
            " |          When set to None (the default value), will split on any whitespace\n",
            " |          character (including \\\\n \\\\r \\\\t \\\\f and spaces) and will discard\n",
            " |          empty strings from the result.\n",
            " |        maxsplit\n",
            " |          Maximum number of splits (starting from the left).\n",
            " |          -1 (the default value) means no limit.\n",
            " |      \n",
            " |      Note, str.split() is mainly useful for data that has been intentionally\n",
            " |      delimited.  With natural text that includes punctuation, consider using\n",
            " |      the regular expression module.\n",
            " |  \n",
            " |  splitlines(self, /, keepends=False)\n",
            " |      Return a list of the lines in the string, breaking at line boundaries.\n",
            " |      \n",
            " |      Line breaks are not included in the resulting list unless keepends is given and\n",
            " |      true.\n",
            " |  \n",
            " |  startswith(...)\n",
            " |      S.startswith(prefix[, start[, end]]) -> bool\n",
            " |      \n",
            " |      Return True if S starts with the specified prefix, False otherwise.\n",
            " |      With optional start, test S beginning at that position.\n",
            " |      With optional end, stop comparing S at that position.\n",
            " |      prefix can also be a tuple of strings to try.\n",
            " |  \n",
            " |  strip(self, chars=None, /)\n",
            " |      Return a copy of the string with leading and trailing whitespace removed.\n",
            " |      \n",
            " |      If chars is given and not None, remove characters in chars instead.\n",
            " |  \n",
            " |  swapcase(self, /)\n",
            " |      Convert uppercase characters to lowercase and lowercase characters to uppercase.\n",
            " |  \n",
            " |  title(self, /)\n",
            " |      Return a version of the string where each word is titlecased.\n",
            " |      \n",
            " |      More specifically, words start with uppercased characters and all remaining\n",
            " |      cased characters have lower case.\n",
            " |  \n",
            " |  translate(self, table, /)\n",
            " |      Replace each character in the string using the given translation table.\n",
            " |      \n",
            " |        table\n",
            " |          Translation table, which must be a mapping of Unicode ordinals to\n",
            " |          Unicode ordinals, strings, or None.\n",
            " |      \n",
            " |      The table must implement lookup/indexing via __getitem__, for instance a\n",
            " |      dictionary or list.  If this operation raises LookupError, the character is\n",
            " |      left untouched.  Characters mapped to None are deleted.\n",
            " |  \n",
            " |  upper(self, /)\n",
            " |      Return a copy of the string converted to uppercase.\n",
            " |  \n",
            " |  zfill(self, width, /)\n",
            " |      Pad a numeric string with zeros on the left, to fill a field of the given width.\n",
            " |      \n",
            " |      The string is never truncated.\n",
            " |  \n",
            " |  ----------------------------------------------------------------------\n",
            " |  Static methods defined here:\n",
            " |  \n",
            " |  __new__(*args, **kwargs) from builtins.type\n",
            " |      Create and return a new object.  See help(type) for accurate signature.\n",
            " |  \n",
            " |  maketrans(...)\n",
            " |      Return a translation table usable for str.translate().\n",
            " |      \n",
            " |      If there is only one argument, it must be a dictionary mapping Unicode\n",
            " |      ordinals (integers) or characters to Unicode ordinals, strings or None.\n",
            " |      Character keys will be then converted to ordinals.\n",
            " |      If there are two arguments, they must be strings of equal length, and\n",
            " |      in the resulting dictionary, each character in x will be mapped to the\n",
            " |      character at the same position in y. If there is a third argument, it\n",
            " |      must be a string, whose characters will be mapped to None in the result.\n",
            "\n"
          ]
        }
      ]
    },
    {
      "cell_type": "code",
      "source": [
        "print((\" \".strip()).split())"
      ],
      "metadata": {
        "colab": {
          "base_uri": "https://localhost:8080/"
        },
        "id": "ghTglL43S7DH",
        "outputId": "d905307a-f522-487d-a5d1-da2f43a94ccb"
      },
      "execution_count": 21,
      "outputs": [
        {
          "output_type": "stream",
          "name": "stdout",
          "text": [
            "[]\n"
          ]
        }
      ]
    },
    {
      "cell_type": "code",
      "source": [
        "arr=[x for x in range(1,15)]\n",
        "arr"
      ],
      "metadata": {
        "colab": {
          "base_uri": "https://localhost:8080/"
        },
        "id": "hOImKPw3VpSe",
        "outputId": "0f5c7ad6-6427-4562-ce6d-d1674ed3c76e"
      },
      "execution_count": 4,
      "outputs": [
        {
          "output_type": "execute_result",
          "data": {
            "text/plain": [
              "[1, 2, 3, 4, 5, 6, 7, 8, 9, 10, 11, 12, 13, 14]"
            ]
          },
          "metadata": {},
          "execution_count": 4
        }
      ]
    },
    {
      "cell_type": "code",
      "source": [
        "print(sum(arr[:0]))"
      ],
      "metadata": {
        "colab": {
          "base_uri": "https://localhost:8080/"
        },
        "id": "N0pTh0jKY9AA",
        "outputId": "df41f083-db05-455a-d5d8-157751544632"
      },
      "execution_count": 5,
      "outputs": [
        {
          "output_type": "stream",
          "name": "stdout",
          "text": [
            "0\n"
          ]
        }
      ]
    },
    {
      "cell_type": "code",
      "source": [
        "print(sum(arr[14:]))"
      ],
      "metadata": {
        "colab": {
          "base_uri": "https://localhost:8080/"
        },
        "id": "w5DDDOhKZLP-",
        "outputId": "a3e81d26-e887-4cb7-cb72-7d3d2252f5d6"
      },
      "execution_count": 12,
      "outputs": [
        {
          "output_type": "stream",
          "name": "stdout",
          "text": [
            "0\n"
          ]
        }
      ]
    },
    {
      "cell_type": "code",
      "source": [
        "len(arr)"
      ],
      "metadata": {
        "colab": {
          "base_uri": "https://localhost:8080/"
        },
        "id": "HCMH5evLZZ8v",
        "outputId": "29e0e182-6c59-44c9-8555-4d79a4489aaa"
      },
      "execution_count": 8,
      "outputs": [
        {
          "output_type": "execute_result",
          "data": {
            "text/plain": [
              "14"
            ]
          },
          "metadata": {},
          "execution_count": 8
        }
      ]
    },
    {
      "cell_type": "code",
      "source": [
        "arr[14]"
      ],
      "metadata": {
        "colab": {
          "base_uri": "https://localhost:8080/",
          "height": 176
        },
        "id": "4-RsH_PJZhlk",
        "outputId": "d6a6f965-223c-4d20-96a1-0bef8f7f09c9"
      },
      "execution_count": 9,
      "outputs": [
        {
          "output_type": "error",
          "ename": "IndexError",
          "evalue": "ignored",
          "traceback": [
            "\u001b[0;31m---------------------------------------------------------------------------\u001b[0m",
            "\u001b[0;31mIndexError\u001b[0m                                Traceback (most recent call last)",
            "\u001b[0;32m<ipython-input-9-eb5cb1896099>\u001b[0m in \u001b[0;36m<cell line: 1>\u001b[0;34m()\u001b[0m\n\u001b[0;32m----> 1\u001b[0;31m \u001b[0marr\u001b[0m\u001b[0;34m[\u001b[0m\u001b[0;36m14\u001b[0m\u001b[0;34m]\u001b[0m\u001b[0;34m\u001b[0m\u001b[0;34m\u001b[0m\u001b[0m\n\u001b[0m",
            "\u001b[0;31mIndexError\u001b[0m: list index out of range"
          ]
        }
      ]
    },
    {
      "cell_type": "code",
      "source": [
        "def get_pivot_index(numbers):\n",
        "    \"\"\"\n",
        "    Args:\n",
        "     numbers(list_int32)\n",
        "    Returns:\n",
        "     int32\n",
        "    \"\"\"\n",
        "    # Write your code here.\n",
        "    pivot=0\n",
        "    pivotFound=False\n",
        "    for i in range(len(numbers)):\n",
        "        print(pivot, sum(numbers[:pivot]),sum(numbers[pivot+1:]))\n",
        "        '''if sum(numbers[:pivot]) > sum(numbers[pivot+1:]):\n",
        "            pivot-=1\n",
        "        elif sum(numbers[:pivot]) < sum(numbers[pivot+1:]):\n",
        "            pivot+=1'''\n",
        "        if sum(numbers[:pivot]) == sum(numbers[pivot+1:]):\n",
        "            pivotFound=True\n",
        "            break\n",
        "        else:\n",
        "          pivot+=1\n",
        "    if pivotFound:\n",
        "        return pivot\n",
        "    return -1"
      ],
      "metadata": {
        "id": "OJrGJ1UMZjY8"
      },
      "execution_count": 31,
      "outputs": []
    },
    {
      "cell_type": "code",
      "source": [
        "get_pivot_index([1, 2, 3, 4, 5, -15, 7])"
      ],
      "metadata": {
        "colab": {
          "base_uri": "https://localhost:8080/"
        },
        "id": "VzCBv6XScAjH",
        "outputId": "2f1436b2-9c74-4dce-eed9-1324c1388f0a"
      },
      "execution_count": 32,
      "outputs": [
        {
          "output_type": "stream",
          "name": "stdout",
          "text": [
            "0 0 6\n",
            "1 1 4\n",
            "2 3 1\n",
            "3 6 -3\n",
            "4 10 -8\n",
            "5 15 7\n",
            "6 0 0\n"
          ]
        },
        {
          "output_type": "execute_result",
          "data": {
            "text/plain": [
              "6"
            ]
          },
          "metadata": {},
          "execution_count": 32
        }
      ]
    },
    {
      "cell_type": "code",
      "source": [
        "import numpy as np\n",
        "arr= list(np.random.randint(1,13,31))"
      ],
      "metadata": {
        "id": "A8wZCptqcM3k"
      },
      "execution_count": 6,
      "outputs": []
    },
    {
      "cell_type": "code",
      "source": [
        "arr"
      ],
      "metadata": {
        "colab": {
          "base_uri": "https://localhost:8080/"
        },
        "id": "DB9cTFAG7pFO",
        "outputId": "5d7c159e-ed8d-4719-9135-d58808387f05"
      },
      "execution_count": 7,
      "outputs": [
        {
          "output_type": "execute_result",
          "data": {
            "text/plain": [
              "[1,\n",
              " 6,\n",
              " 6,\n",
              " 4,\n",
              " 8,\n",
              " 2,\n",
              " 9,\n",
              " 1,\n",
              " 8,\n",
              " 12,\n",
              " 11,\n",
              " 2,\n",
              " 9,\n",
              " 5,\n",
              " 12,\n",
              " 4,\n",
              " 2,\n",
              " 6,\n",
              " 4,\n",
              " 5,\n",
              " 4,\n",
              " 4,\n",
              " 9,\n",
              " 11,\n",
              " 1,\n",
              " 2,\n",
              " 10,\n",
              " 12,\n",
              " 10,\n",
              " 4,\n",
              " 8]"
            ]
          },
          "metadata": {},
          "execution_count": 7
        }
      ]
    },
    {
      "cell_type": "code",
      "source": [
        "def countItem(arr):\n",
        "  map=dict()\n",
        "  for i in arr:\n",
        "    if i in map:\n",
        "      map[i]=map[i]+1\n",
        "    else:\n",
        "      map[i]=1\n",
        "  return map\n"
      ],
      "metadata": {
        "id": "SBNCqvM-8o-h"
      },
      "execution_count": 8,
      "outputs": []
    },
    {
      "cell_type": "code",
      "source": [
        "m=countItem(arr)\n",
        "for k,v in m.items():\n",
        "  print(str(k)+\"-->\"+str(v))"
      ],
      "metadata": {
        "colab": {
          "base_uri": "https://localhost:8080/"
        },
        "id": "KbX05Pcq9XwT",
        "outputId": "6639f6b3-334b-43e4-cb35-34197b4a7264"
      },
      "execution_count": 14,
      "outputs": [
        {
          "output_type": "stream",
          "name": "stdout",
          "text": [
            "1-->3\n",
            "6-->3\n",
            "4-->6\n",
            "8-->3\n",
            "2-->4\n",
            "9-->3\n",
            "12-->3\n",
            "11-->2\n",
            "5-->2\n",
            "10-->2\n"
          ]
        }
      ]
    },
    {
      "cell_type": "code",
      "source": [
        "#Bayor Moore Voting Algorithim\n",
        "def max_occurance_num(arr):\n",
        "  count=0\n",
        "  candidate=None\n",
        "  for i in arr:\n",
        "    if count==0:\n",
        "      candidate=i\n",
        "      count+=1\n",
        "\n",
        "    count+= 1 if i==candidate else -1\n",
        "  return candidate"
      ],
      "metadata": {
        "id": "qF74Jt1o-FYT"
      },
      "execution_count": 10,
      "outputs": []
    },
    {
      "cell_type": "code",
      "source": [
        "print(max_occurance_num(arr))"
      ],
      "metadata": {
        "colab": {
          "base_uri": "https://localhost:8080/"
        },
        "id": "cJgTgzLW_B84",
        "outputId": "7149dd4b-bee0-4dfc-ded1-febd71eb2fd3"
      },
      "execution_count": 11,
      "outputs": [
        {
          "output_type": "stream",
          "name": "stdout",
          "text": [
            "10\n"
          ]
        }
      ]
    },
    {
      "cell_type": "code",
      "source": [
        "import sys\n",
        "\n",
        "my_list = [0, 1, 2, 5, 10]\n",
        "my_tuple = (0, 1, 2, 5, 10)\n",
        "\n",
        "print(sys.getsizeof(my_list), \"bytes\")\n",
        "print(sys.getsizeof(my_tuple), \"bytes\")"
      ],
      "metadata": {
        "colab": {
          "base_uri": "https://localhost:8080/"
        },
        "id": "eyYG5hRP_Nrn",
        "outputId": "f4eda136-f314-4e27-c96f-bd3574b6d4a1"
      },
      "execution_count": 36,
      "outputs": [
        {
          "output_type": "stream",
          "name": "stdout",
          "text": [
            "104 bytes\n",
            "80 bytes\n"
          ]
        }
      ]
    },
    {
      "cell_type": "code",
      "source": [
        "# https://www.programiz.com/python-programming/tuple\n",
        "\n",
        "tuple_1 = (\"Max\", 28, \"New York\")\n",
        "tuple_2 = \"Linda\", 25, \"Miami\" # Parentheses are optional\n",
        "\n",
        "# Special case: a tuple with only one element needs to have a comma at the end,\n",
        "# otherwise it is not recognized as tuple\n",
        "my_tuple = (5,)\n",
        "\n",
        "print(type(my_tuple))\n",
        "\n",
        "tuple_3 = (25,)\n",
        "print(tuple_1)\n",
        "print(tuple_2)\n",
        "print(tuple_3)\n",
        "\n",
        "# Or convert an iterable (list, dict, string) with the built-in tuple function\n",
        "tuple_4 = tuple([1,2,3])\n",
        "print(tuple_4)\n",
        "\n",
        "#Error\n",
        "#tuple_1[2] = \"Boston\"\n",
        "\n",
        "for i in tuple_1:\n",
        "    print(i)\n",
        "\n",
        "if \"New York\" in tuple_1:\n",
        "    print(\"yes\")\n",
        "else:\n",
        "    print(\"no\")\n",
        "\n",
        "\n",
        "my_tuple = ('a','p','p','l','e',)\n",
        "\n",
        "# len() : get the number of elements in a tuple\n",
        "print(len(my_tuple))\n",
        "\n",
        "# count(x) : Return the number of items that is equal to x\n",
        "print(my_tuple.count('p'))\n",
        "\n",
        "# index(x) : Return index of first item that is equal to x\n",
        "print(my_tuple.index('l'))\n",
        "\n",
        "# repetition\n",
        "my_tuple3 = ('a', 'b') * 5\n",
        "print(my_tuple3)\n",
        "\n",
        "# repetition works on Lists and Strings also\n",
        "\n",
        "\n",
        "# convert list to a tuple and vice versa\n",
        "my_list = ['a', 'b', 'c', 'd']\n",
        "list_to_tuple = tuple(my_list)\n",
        "print(list_to_tuple)\n",
        "\n",
        "tuple_to_list = list(list_to_tuple)\n",
        "print(tuple_to_list)\n",
        "\n",
        "# convert string to tuple\n",
        "string_to_tuple = tuple('Hello')\n",
        "print(string_to_tuple)"
      ],
      "metadata": {
        "colab": {
          "base_uri": "https://localhost:8080/"
        },
        "id": "8qJUhebQAlHw",
        "outputId": "99927245-623d-4090-891b-c6547e0ebb49"
      },
      "execution_count": 38,
      "outputs": [
        {
          "output_type": "stream",
          "name": "stdout",
          "text": [
            "<class 'tuple'>\n",
            "('Max', 28, 'New York')\n",
            "('Linda', 25, 'Miami')\n",
            "(25,)\n",
            "(1, 2, 3)\n",
            "Max\n",
            "28\n",
            "New York\n",
            "yes\n",
            "5\n",
            "2\n",
            "3\n",
            "('a', 'b', 'a', 'b', 'a', 'b', 'a', 'b', 'a', 'b')\n",
            "('a', 'b', 'c', 'd')\n",
            "['a', 'b', 'c', 'd']\n",
            "('H', 'e', 'l', 'l', 'o')\n"
          ]
        }
      ]
    },
    {
      "cell_type": "code",
      "source": [
        "\n",
        "Lst = [50, 70, 30, 20, 90, 10, 50]\n",
        "\n",
        "# Display list\n",
        "print(Lst[1:5]) # from index 1 till index 4\n",
        "\n",
        "# Initialize list\n",
        "List = [1, 2, 3, 4, 5, 6, 7, 8, 9]\n",
        "\n",
        "# Show original list\n",
        "print(\"\\nOriginal List:\\n\", List)\n",
        "\n",
        "print(\"\\nSliced Lists: \")\n",
        "\n",
        "# Display sliced list\n",
        "print(List[3:9:2]) #3,5,7\n",
        "\n",
        "# Display sliced list\n",
        "print(List[::2])#1,3,5,7,9\n",
        "\n",
        "print(List[::])\n",
        "\n",
        "# String slicing\n",
        "String = 'CodingIsFun'\n",
        "\n",
        "# Using indexing sequence\n",
        "print(String[1:5]) #odin"
      ],
      "metadata": {
        "colab": {
          "base_uri": "https://localhost:8080/"
        },
        "id": "G9um12lNBcNZ",
        "outputId": "5ff3b072-7ea3-4319-e22b-452f92103449"
      },
      "execution_count": 39,
      "outputs": [
        {
          "output_type": "stream",
          "name": "stdout",
          "text": [
            "[70, 30, 20, 90]\n",
            "\n",
            "Original List:\n",
            " [1, 2, 3, 4, 5, 6, 7, 8, 9]\n",
            "\n",
            "Sliced Lists: \n",
            "[4, 6, 8]\n",
            "[1, 3, 5, 7, 9]\n",
            "[1, 2, 3, 4, 5, 6, 7, 8, 9]\n",
            "odin\n"
          ]
        }
      ]
    },
    {
      "cell_type": "code",
      "source": [
        "odds = {1, 3, 5, 7, 9}\n",
        "evens = {0, 2, 4, 6, 8}\n",
        "primes = {2, 3, 5, 7}\n",
        "\n",
        "# union() : combine elements from both sets, no duplication\n",
        "# note that this does not change the two sets\n",
        "u_set = odds.union(evens)\n",
        "print(u_set)\n",
        "\n",
        "# intersection(): take elements that are in both sets\n",
        "i = odds.intersection(evens)\n",
        "print(i)\n",
        "\n",
        "i = odds.intersection(primes)\n",
        "print(type(i))\n",
        "print(i)\n",
        "\n",
        "i = evens.intersection(primes)\n",
        "print(i)\n",
        "\n",
        "setA = {1, 2, 3, 4, 5, 6}\n",
        "setB = {1, 2, 3}\n",
        "# issubset(setX): Returns True if setX contains the set\n",
        "print(setA.issubset(setB))\n",
        "print(setB.issubset(setA)) # True\n",
        "\n",
        "# issuperset(setX): Returns True if the set contains setX\n",
        "print(setA.issuperset(setB)) # True\n",
        "print(setB.issuperset(setA))\n",
        "\n",
        "# isdisjoint(setX) : Return True if both sets have a null intersection, i.e. no same elements\n",
        "setC = {7, 8, 9}\n",
        "print(setA.isdisjoint(setB))\n",
        "print(setA.isdisjoint(setC))"
      ],
      "metadata": {
        "colab": {
          "base_uri": "https://localhost:8080/"
        },
        "id": "SiiCjf4NCX7t",
        "outputId": "346049cf-4ae3-4d27-c008-aeb081832461"
      },
      "execution_count": 40,
      "outputs": [
        {
          "output_type": "stream",
          "name": "stdout",
          "text": [
            "{0, 1, 2, 3, 4, 5, 6, 7, 8, 9}\n",
            "set()\n",
            "<class 'set'>\n",
            "{3, 5, 7}\n",
            "{2}\n",
            "False\n",
            "True\n",
            "True\n",
            "False\n",
            "False\n",
            "True\n"
          ]
        }
      ]
    },
    {
      "cell_type": "code",
      "source": [
        "# remove(x): removes x, raises a KeyError if element is not present\n",
        "my_set = {\"apple\", \"banana\", \"cherry\"}\n",
        "my_set.remove(\"apple\")\n",
        "print(my_set)\n",
        "\n",
        "#KeyError:\n",
        "#my_set.remove(\"orange\")\n",
        "\n",
        "# discard(x): removes x, does nothing if element is not present\n",
        "my_set.discard(\"cherry\")\n",
        "my_set.discard(\"blueberry\")\n",
        "print(my_set)\n",
        "\n",
        "# clear() : remove all elements\n",
        "my_set.clear()\n",
        "print(my_set)"
      ],
      "metadata": {
        "colab": {
          "base_uri": "https://localhost:8080/"
        },
        "id": "SeVhHGn0Djy-",
        "outputId": "ed397ca0-bd46-494f-a732-21f0a698a39c"
      },
      "execution_count": 43,
      "outputs": [
        {
          "output_type": "stream",
          "name": "stdout",
          "text": [
            "{'cherry', 'banana'}\n",
            "{'banana'}\n",
            "set()\n"
          ]
        }
      ]
    },
    {
      "cell_type": "code",
      "source": [
        "# https://www.programiz.com/python-programming/set\n",
        "\n",
        "\n",
        "set1 = {1, 5, 10, 4, 6, 9, 19}\n",
        "\n",
        "print(set1)\n",
        "print(len(set1))\n",
        "print(max(set1))\n",
        "\n",
        "my_set = {\"apple\", \"banana\", \"cherry\"}\n",
        "if \"apple\" in my_set:  # O(1)\n",
        "    print(\"yes\")\n",
        "\n",
        "#print(set1[2])   # --> error\n",
        "\n",
        "# Creating a Set\n",
        "people = {\"Jay\", \"Matt\", \"Steph\"}\n",
        "\n",
        "print(people)\n",
        "\n",
        "people.add(\"Raju\")\n",
        "\n",
        "for i in range(1, 6):\n",
        "\tpeople.add(i)\n",
        "\n",
        "print(people)\n",
        "\n",
        "numbers = {2, 4, 6, 6, 2, 8}\n",
        "print(numbers)   # {8, 2, 4, 6}\n",
        "\n",
        "companies = {'eBay', 'Fb'}\n",
        "more_companies = ['apple', 'google', 'Fb']\n",
        "\n",
        "companies.update(more_companies)\n",
        "\n",
        "\n",
        "print(companies)\n",
        "\n",
        "# Output: {'google', 'apple', 'Lacoste', 'Ralph Lauren'}"
      ],
      "metadata": {
        "colab": {
          "base_uri": "https://localhost:8080/"
        },
        "id": "jhUk3efPEJRg",
        "outputId": "a61789e3-9148-46b6-9aaa-ee540231e901"
      },
      "execution_count": 49,
      "outputs": [
        {
          "output_type": "stream",
          "name": "stdout",
          "text": [
            "{1, 19, 4, 5, 6, 9, 10}\n",
            "7\n",
            "19\n",
            "yes\n",
            "{'Jay', 'Matt', 'Steph'}\n",
            "{1, 2, 3, 4, 'Steph', 'Raju', 5, 'Jay', 'Matt'}\n",
            "{8, 2, 4, 6}\n",
            "{'Fb', 'apple', 'google', 'eBay'}\n"
          ]
        }
      ]
    },
    {
      "cell_type": "code",
      "source": [
        "# This function modifies global variable 's'\n",
        "def f():\n",
        "\tglobal s\n",
        "\tprint(s)\n",
        "\ts = \"It's awesome\"\n",
        "\tprint(s)\n",
        "\n",
        "# Global Scope\n",
        "s = \"Python is great !\"\n",
        "f()\n",
        "print(s)\n",
        "\n",
        "\n",
        "# Python program to demonstrate\n",
        "# scope of variable\n",
        "\n",
        "a = 1\n",
        "\n",
        "# Uses global because there is no local 'a'\n",
        "def f():\n",
        "\tprint('Inside f() : ', a)\n",
        "\n",
        "# Variable 'a' is redefined as a local\n",
        "def g():\n",
        "\ta = 2\n",
        "\tprint('Inside g() : ', a)\n",
        "\n",
        "# Uses global keyword to modify global 'a'\n",
        "def h():\n",
        "\tglobal a\n",
        "\ta = 3\n",
        "\tprint('Inside h() : ', a)\n",
        "\n",
        "# Global scope\n",
        "print('global : ', a)\n",
        "f()\n",
        "print('global : ', a)\n",
        "g()\n",
        "print('global : ', a)\n",
        "h()\n",
        "print('global : ', a)"
      ],
      "metadata": {
        "colab": {
          "base_uri": "https://localhost:8080/"
        },
        "id": "o1OthRo2Epmj",
        "outputId": "01553a4a-41da-4384-b0a0-4a3c4a81fb1d"
      },
      "execution_count": 1,
      "outputs": [
        {
          "output_type": "stream",
          "name": "stdout",
          "text": [
            "Python is great !\n",
            "It's awesome\n",
            "It's awesome\n",
            "global :  1\n",
            "Inside f() :  1\n",
            "global :  1\n",
            "Inside g() :  2\n",
            "global :  1\n",
            "Inside h() :  3\n",
            "global :  3\n"
          ]
        }
      ]
    },
    {
      "cell_type": "code",
      "source": [
        "# Global scope\n",
        "s = \"xyz\"\n",
        "#fun()\n",
        "print(s)\n",
        "def fun():\n",
        "    print(s)\n",
        "    s = \"abc\"\n",
        "    print(s)\n",
        "\n",
        "\n"
      ],
      "metadata": {
        "colab": {
          "base_uri": "https://localhost:8080/"
        },
        "id": "ksFrTFYbqQ7W",
        "outputId": "e0d31333-193e-4d04-b413-84127a1887e8"
      },
      "execution_count": 9,
      "outputs": [
        {
          "output_type": "stream",
          "name": "stdout",
          "text": [
            "xyz\n"
          ]
        }
      ]
    },
    {
      "cell_type": "code",
      "source": [
        "# This function uses global variable s\n",
        "\n",
        "s1 = \"abc\"\n",
        "def f():\n",
        "\ts3 = \"pqr\"\n",
        "\tprint(s1)\n",
        "\tprint(s2)\n",
        "\tprint(s3)\n",
        "\n",
        "# Global scope\n",
        "s2 = \"xyz\"\n",
        "f()"
      ],
      "metadata": {
        "colab": {
          "base_uri": "https://localhost:8080/"
        },
        "id": "LZEYbiF2rI7m",
        "outputId": "322adad5-a494-4fd7-83c4-23238fc51629"
      },
      "execution_count": 7,
      "outputs": [
        {
          "output_type": "stream",
          "name": "stdout",
          "text": [
            "abc\n",
            "xyz\n",
            "pqr\n"
          ]
        }
      ]
    },
    {
      "cell_type": "code",
      "source": [
        "# python code to demonstrate working of reduce()\n",
        "\n",
        "# importing functools for reduce()\n",
        "import functools\n",
        "\n",
        "# initializing list\n",
        "lis = [1, 3, 5, 6, 2]\n",
        "\n",
        "# using reduce to compute sum of list\n",
        "print(functools.reduce(lambda a, b: a + b, lis))\n",
        "\n",
        "def product(x,y):\n",
        "    return x*y\n",
        "\n",
        "ans = functools.reduce(product, [2, 5, 3, 7])\n",
        "print(ans)\n"
      ],
      "metadata": {
        "colab": {
          "base_uri": "https://localhost:8080/"
        },
        "id": "6UBBEwibrudl",
        "outputId": "ddfb71ff-c540-404b-d98a-d40e6ec2735a"
      },
      "execution_count": 10,
      "outputs": [
        {
          "output_type": "stream",
          "name": "stdout",
          "text": [
            "17\n",
            "210\n"
          ]
        }
      ]
    },
    {
      "cell_type": "code",
      "source": [
        "# https://www.w3schools.com/python/module_random.asp\n",
        "\n",
        "import random\n",
        "\n",
        "print(random.randint(1, 20))\n",
        "\n",
        "print(int(1000*random.random())) # 0.23\n",
        "\n",
        "list1 = [1, 8, 3, 20, 5, 6]\n",
        "print(random.choice(list1))\n",
        "\n",
        "# prints a random item from the string\n",
        "string = \"Google\"\n",
        "print(random.choice(string))\n",
        "\n",
        "random.shuffle(list1)\n",
        "\n",
        "print(list1)\n",
        "\n",
        "print(random.sample(list1, 2))\n"
      ],
      "metadata": {
        "colab": {
          "base_uri": "https://localhost:8080/"
        },
        "id": "795WKM6Aswaq",
        "outputId": "f6bc26ad-3dae-4cc5-c1ec-bf1c24784e46"
      },
      "execution_count": 12,
      "outputs": [
        {
          "output_type": "stream",
          "name": "stdout",
          "text": [
            "9\n",
            "712\n",
            "5\n",
            "g\n",
            "[1, 5, 3, 6, 8, 20]\n",
            "[8, 1]\n"
          ]
        }
      ]
    },
    {
      "cell_type": "code",
      "source": [
        "print(random.random())"
      ],
      "metadata": {
        "colab": {
          "base_uri": "https://localhost:8080/"
        },
        "id": "kuIQrvnDtIrC",
        "outputId": "4b03fc89-4142-4cbe-b4e9-525f9554381a"
      },
      "execution_count": 14,
      "outputs": [
        {
          "output_type": "stream",
          "name": "stdout",
          "text": [
            "0.35899004461649076\n"
          ]
        }
      ]
    },
    {
      "cell_type": "code",
      "source": [
        "# importing sqrt() and factorial from the module math\n",
        "from math import sqrt, factorial, pi\n",
        "#from math_calculator import find_sqaure, pi\n",
        "\n",
        "\n",
        "# if we simply do \"import math\", then\n",
        "# math.sqrt(16) and math.factorial() are required.\n",
        "\n",
        "print(sqrt(16))\n",
        "print(factorial(6))\n",
        "#print(find_sqaure(4))\n",
        "print(pi)"
      ],
      "metadata": {
        "colab": {
          "base_uri": "https://localhost:8080/"
        },
        "id": "8SUTyqIMtTLe",
        "outputId": "b917bcf8-ac07-4660-ac6b-3be08cbd3002"
      },
      "execution_count": 18,
      "outputs": [
        {
          "output_type": "stream",
          "name": "stdout",
          "text": [
            "4.0\n",
            "720\n",
            "3.141592653589793\n"
          ]
        }
      ]
    },
    {
      "cell_type": "code",
      "source": [
        "# https://docs.python.org/3/library/math.html\n",
        "\n",
        "import math\n",
        "\n",
        "x = 10\n",
        "\n",
        "y = math.pow(x, 6)\n",
        "\n",
        "print(y)\n",
        "\n",
        "a = 4.3\n",
        "\n",
        "print(math.ceil(a))\n",
        "\n",
        "print(math.gcd(18, 48))"
      ],
      "metadata": {
        "colab": {
          "base_uri": "https://localhost:8080/"
        },
        "id": "iENMybcktvkT",
        "outputId": "05a03d6b-c1b4-4d21-a42f-d93c9b65f98d"
      },
      "execution_count": 19,
      "outputs": [
        {
          "output_type": "stream",
          "name": "stdout",
          "text": [
            "1000000.0\n",
            "5\n",
            "6\n"
          ]
        }
      ]
    },
    {
      "cell_type": "code",
      "source": [
        "t=tuple()"
      ],
      "metadata": {
        "id": "VEGHRFJ8vHiY"
      },
      "execution_count": 20,
      "outputs": []
    },
    {
      "cell_type": "code",
      "source": [
        "for i in range(10):\n",
        "  t.update(i)\n",
        "\n",
        "print(t)"
      ],
      "metadata": {
        "colab": {
          "base_uri": "https://localhost:8080/",
          "height": 228
        },
        "id": "cdUJSlQg7aFz",
        "outputId": "29892fd4-cb31-497a-d001-aab01b8fd728"
      },
      "execution_count": 22,
      "outputs": [
        {
          "output_type": "error",
          "ename": "AttributeError",
          "evalue": "ignored",
          "traceback": [
            "\u001b[0;31m---------------------------------------------------------------------------\u001b[0m",
            "\u001b[0;31mAttributeError\u001b[0m                            Traceback (most recent call last)",
            "\u001b[0;32m<ipython-input-22-e8b5247a5e28>\u001b[0m in \u001b[0;36m<cell line: 1>\u001b[0;34m()\u001b[0m\n\u001b[1;32m      1\u001b[0m \u001b[0;32mfor\u001b[0m \u001b[0mi\u001b[0m \u001b[0;32min\u001b[0m \u001b[0mrange\u001b[0m\u001b[0;34m(\u001b[0m\u001b[0;36m10\u001b[0m\u001b[0;34m)\u001b[0m\u001b[0;34m:\u001b[0m\u001b[0;34m\u001b[0m\u001b[0;34m\u001b[0m\u001b[0m\n\u001b[0;32m----> 2\u001b[0;31m   \u001b[0mt\u001b[0m\u001b[0;34m.\u001b[0m\u001b[0mupdate\u001b[0m\u001b[0;34m(\u001b[0m\u001b[0mi\u001b[0m\u001b[0;34m)\u001b[0m\u001b[0;34m\u001b[0m\u001b[0;34m\u001b[0m\u001b[0m\n\u001b[0m\u001b[1;32m      3\u001b[0m \u001b[0;34m\u001b[0m\u001b[0m\n\u001b[1;32m      4\u001b[0m \u001b[0mprint\u001b[0m\u001b[0;34m(\u001b[0m\u001b[0mt\u001b[0m\u001b[0;34m)\u001b[0m\u001b[0;34m\u001b[0m\u001b[0;34m\u001b[0m\u001b[0m\n",
            "\u001b[0;31mAttributeError\u001b[0m: 'tuple' object has no attribute 'update'"
          ]
        }
      ]
    },
    {
      "cell_type": "code",
      "source": [
        "'''\n",
        "Python variables are not storage containers.\n",
        "Rather Python’s variables are like memory references.\n",
        "They refer to the memory address where the value is stored.\n",
        "'''\n",
        "\n",
        "x = 5\n",
        "\n",
        "print(\"id of x =\", id(x))\n",
        "\n",
        "y = 10\n",
        "\n",
        "print(\"id of y =\", id(y))\n",
        "\n",
        "x = 20\n",
        "\n",
        "print(\"id of x =\", id(x))\n",
        "\n",
        "x = \"abc\"\n",
        "print(\"id of x =\", id(x))\n",
        "k = x\n",
        "print(\"id of k =\", id(k))\n",
        "\n",
        "k = 10\n",
        "print(\"x =\", x)\n",
        "print(\"k = \", k)\n",
        "print(\"id of x =\", id(x))\n",
        "print(\"id of k =\", id(k))\n",
        "\n",
        "p = \"abc\"\n",
        "print(\"id of p =\", id(p))\n",
        "\n",
        "a = 10\n",
        "print(id(a))\n",
        "a = a + 5\n",
        "c = 20-5\n",
        "print(id(a))\n",
        "print(id(15))\n",
        "print(id(c))\n",
        "\n",
        "l1 = [1, 2, 3]\n",
        "\n",
        "l2 = [1, 2, 3]\n",
        "\n",
        "print(id(l1))\n",
        "print(id(l2))\n",
        "\n",
        "'''\n",
        "Immutable: tuples, int, str, bool\n",
        "\n",
        "Mutable: list, set, dict\n",
        "'''"
      ],
      "metadata": {
        "colab": {
          "base_uri": "https://localhost:8080/",
          "height": 313
        },
        "id": "0kMuVvba7ha7",
        "outputId": "3ca7a580-0a08-4a5c-f85b-59f9115dd150"
      },
      "execution_count": 23,
      "outputs": [
        {
          "output_type": "stream",
          "name": "stdout",
          "text": [
            "id of x = 137477688689008\n",
            "id of y = 137477688689168\n",
            "id of x = 137477688689488\n",
            "id of x = 137477687496688\n",
            "id of k = 137477687496688\n",
            "x = abc\n",
            "k =  10\n",
            "id of x = 137477687496688\n",
            "id of k = 137477688689168\n",
            "id of p = 137477687496688\n",
            "137477688689168\n",
            "137477688689328\n",
            "137477688689328\n",
            "137477688689328\n",
            "137476648492672\n",
            "137477478586560\n"
          ]
        },
        {
          "output_type": "execute_result",
          "data": {
            "text/plain": [
              "'\\nImmutable: tuples, int, str, bool \\n\\nMutable: list, set, dict \\n'"
            ],
            "application/vnd.google.colaboratory.intrinsic+json": {
              "type": "string"
            }
          },
          "metadata": {},
          "execution_count": 23
        }
      ]
    },
    {
      "cell_type": "code",
      "source": [
        "my_dict_2 = dict(\"name\"=\"Lisa\", \"age\"=27, \"city\"=\"Boston\")\n",
        "my_dict_2"
      ],
      "metadata": {
        "colab": {
          "base_uri": "https://localhost:8080/",
          "height": 141
        },
        "id": "UezLgkd-8NS-",
        "outputId": "addc53df-25f7-4d29-a753-d3d892640378"
      },
      "execution_count": 25,
      "outputs": [
        {
          "output_type": "error",
          "ename": "SyntaxError",
          "evalue": "ignored",
          "traceback": [
            "\u001b[0;36m  File \u001b[0;32m\"<ipython-input-25-29a2cce87135>\"\u001b[0;36m, line \u001b[0;32m1\u001b[0m\n\u001b[0;31m    my_dict_2 = dict(\"name\"=\"Lisa\", \"age\"=27, \"city\"=\"Boston\")\u001b[0m\n\u001b[0m                     ^\u001b[0m\n\u001b[0;31mSyntaxError\u001b[0m\u001b[0;31m:\u001b[0m expression cannot contain assignment, perhaps you meant \"==\"?\n"
          ]
        }
      ]
    },
    {
      "cell_type": "code",
      "source": [
        "my_tuple = (8, 7)\n",
        "my_dict = {my_tuple: 15}\n",
        "\n",
        "print(my_dict[my_tuple])\n",
        "# print(my_dict[8, 7])\n",
        "\n",
        "# a list is not possible because it is not immutable\n",
        "# this will raise an Error:\n",
        "my_list = [8, 7]\n",
        "my_dict = {my_list: 15}\n"
      ],
      "metadata": {
        "colab": {
          "base_uri": "https://localhost:8080/",
          "height": 228
        },
        "id": "tgaJfhtY8-Xo",
        "outputId": "841bfd37-0093-4e7c-9db2-74d2fb63c53c"
      },
      "execution_count": 4,
      "outputs": [
        {
          "output_type": "stream",
          "name": "stdout",
          "text": [
            "15\n"
          ]
        },
        {
          "output_type": "error",
          "ename": "TypeError",
          "evalue": "ignored",
          "traceback": [
            "\u001b[0;31m---------------------------------------------------------------------------\u001b[0m",
            "\u001b[0;31mTypeError\u001b[0m                                 Traceback (most recent call last)",
            "\u001b[0;32m<ipython-input-4-3cc445f2c274>\u001b[0m in \u001b[0;36m<cell line: 10>\u001b[0;34m()\u001b[0m\n\u001b[1;32m      8\u001b[0m \u001b[0;31m# this will raise an Error:\u001b[0m\u001b[0;34m\u001b[0m\u001b[0;34m\u001b[0m\u001b[0m\n\u001b[1;32m      9\u001b[0m \u001b[0mmy_list\u001b[0m \u001b[0;34m=\u001b[0m \u001b[0;34m[\u001b[0m\u001b[0;36m8\u001b[0m\u001b[0;34m,\u001b[0m \u001b[0;36m7\u001b[0m\u001b[0;34m]\u001b[0m\u001b[0;34m\u001b[0m\u001b[0;34m\u001b[0m\u001b[0m\n\u001b[0;32m---> 10\u001b[0;31m \u001b[0mmy_dict\u001b[0m \u001b[0;34m=\u001b[0m \u001b[0;34m{\u001b[0m\u001b[0mmy_list\u001b[0m\u001b[0;34m:\u001b[0m \u001b[0;36m15\u001b[0m\u001b[0;34m}\u001b[0m\u001b[0;34m\u001b[0m\u001b[0;34m\u001b[0m\u001b[0m\n\u001b[0m",
            "\u001b[0;31mTypeError\u001b[0m: unhashable type: 'list'"
          ]
        }
      ]
    },
    {
      "cell_type": "code",
      "source": [
        "print(my_dict)"
      ],
      "metadata": {
        "colab": {
          "base_uri": "https://localhost:8080/"
        },
        "id": "gOCC4H1ndP3s",
        "outputId": "4d4f4399-4545-4460-f43f-f90c5912f904"
      },
      "execution_count": 2,
      "outputs": [
        {
          "output_type": "stream",
          "name": "stdout",
          "text": [
            "{(8, 7): 15}\n"
          ]
        }
      ]
    },
    {
      "cell_type": "code",
      "source": [
        "def add_1(a, b):\n",
        "    return a + b\n",
        "\n",
        "c = add_1(5, 10)\n",
        "print(c)\n",
        "\n",
        "add_2 = lambda a,b: a + b\n",
        "\n",
        "d = add_2(10,20)\n",
        "print(d)\n",
        "\n",
        "print(type(add_1))\n",
        "print(type(add_2))"
      ],
      "metadata": {
        "colab": {
          "base_uri": "https://localhost:8080/"
        },
        "id": "WT6lkkAgdVNo",
        "outputId": "1f2e7f2f-8e3e-498c-812d-a1efd3e07fd8"
      },
      "execution_count": 5,
      "outputs": [
        {
          "output_type": "stream",
          "name": "stdout",
          "text": [
            "15\n",
            "30\n",
            "<class 'function'>\n",
            "<class 'function'>\n"
          ]
        }
      ]
    },
    {
      "cell_type": "code",
      "source": [
        "tu=(1,2,[1,2,3,5])"
      ],
      "metadata": {
        "id": "ZWsMlseReIu7"
      },
      "execution_count": 15,
      "outputs": []
    },
    {
      "cell_type": "code",
      "source": [
        "id(tu)"
      ],
      "metadata": {
        "colab": {
          "base_uri": "https://localhost:8080/"
        },
        "id": "TBDhzGgpJUeM",
        "outputId": "dd69923a-b4e9-4b42-f85f-56e055bb9c4b"
      },
      "execution_count": 19,
      "outputs": [
        {
          "output_type": "execute_result",
          "data": {
            "text/plain": [
              "140637178141568"
            ]
          },
          "metadata": {},
          "execution_count": 19
        }
      ]
    },
    {
      "cell_type": "code",
      "source": [
        "a,b,c=tu"
      ],
      "metadata": {
        "id": "k6lC_O6lH77M"
      },
      "execution_count": 16,
      "outputs": []
    },
    {
      "cell_type": "code",
      "source": [
        "c.append(6)"
      ],
      "metadata": {
        "id": "p30TEOYCH_DE"
      },
      "execution_count": 17,
      "outputs": []
    },
    {
      "cell_type": "code",
      "source": [
        "tu"
      ],
      "metadata": {
        "colab": {
          "base_uri": "https://localhost:8080/"
        },
        "id": "XQpy_sF3IBxA",
        "outputId": "51e827b8-cbae-4481-9a8e-f8d6bd9e086c"
      },
      "execution_count": 18,
      "outputs": [
        {
          "output_type": "execute_result",
          "data": {
            "text/plain": [
              "(1, 2, [1, 2, 3, 5, 6])"
            ]
          },
          "metadata": {},
          "execution_count": 18
        }
      ]
    },
    {
      "cell_type": "code",
      "source": [
        "id(tu)"
      ],
      "metadata": {
        "colab": {
          "base_uri": "https://localhost:8080/"
        },
        "id": "MDArWLdfICdo",
        "outputId": "e6341bec-382c-43b8-b3f7-f7a2b1bd6370"
      },
      "execution_count": 20,
      "outputs": [
        {
          "output_type": "execute_result",
          "data": {
            "text/plain": [
              "140637178141568"
            ]
          },
          "metadata": {},
          "execution_count": 20
        }
      ]
    },
    {
      "cell_type": "code",
      "source": [
        "se={1,2,3,4,5,6,7}\n"
      ],
      "metadata": {
        "id": "qUtaB1s1JXJJ"
      },
      "execution_count": 21,
      "outputs": []
    },
    {
      "cell_type": "code",
      "source": [],
      "metadata": {
        "colab": {
          "base_uri": "https://localhost:8080/",
          "height": 176
        },
        "id": "jXO9ih0JWx9q",
        "outputId": "0e415b64-e159-4883-fd3c-2fd2a33b0339"
      },
      "execution_count": 23,
      "outputs": [
        {
          "output_type": "error",
          "ename": "TypeError",
          "evalue": "ignored",
          "traceback": [
            "\u001b[0;31m---------------------------------------------------------------------------\u001b[0m",
            "\u001b[0;31mTypeError\u001b[0m                                 Traceback (most recent call last)",
            "\u001b[0;32m<ipython-input-23-ecefe9d96ced>\u001b[0m in \u001b[0;36m<cell line: 1>\u001b[0;34m()\u001b[0m\n\u001b[0;32m----> 1\u001b[0;31m \u001b[0mse\u001b[0m\u001b[0;34m(\u001b[0m\u001b[0;36m1\u001b[0m\u001b[0;34m)\u001b[0m\u001b[0;34m\u001b[0m\u001b[0;34m\u001b[0m\u001b[0m\n\u001b[0m",
            "\u001b[0;31mTypeError\u001b[0m: 'set' object is not callable"
          ]
        }
      ]
    },
    {
      "cell_type": "code",
      "source": [
        "num={}"
      ],
      "metadata": {
        "id": "aygjQHPzWzyD"
      },
      "execution_count": 24,
      "outputs": []
    },
    {
      "cell_type": "code",
      "source": [
        "type(num)"
      ],
      "metadata": {
        "colab": {
          "base_uri": "https://localhost:8080/"
        },
        "id": "aQp_j_-5eeKB",
        "outputId": "f5552e04-b40b-4a0f-da05-7828147ffa6a"
      },
      "execution_count": 25,
      "outputs": [
        {
          "output_type": "execute_result",
          "data": {
            "text/plain": [
              "dict"
            ]
          },
          "metadata": {},
          "execution_count": 25
        }
      ]
    },
    {
      "cell_type": "code",
      "source": [
        "se={}"
      ],
      "metadata": {
        "id": "2bL1TFddefQS"
      },
      "execution_count": 26,
      "outputs": []
    },
    {
      "cell_type": "code",
      "source": [
        "type(se)"
      ],
      "metadata": {
        "colab": {
          "base_uri": "https://localhost:8080/"
        },
        "id": "FAfETfvhehUB",
        "outputId": "e1fcbe5e-d5df-4827-dd1f-666a7d88fc71"
      },
      "execution_count": 27,
      "outputs": [
        {
          "output_type": "execute_result",
          "data": {
            "text/plain": [
              "dict"
            ]
          },
          "metadata": {},
          "execution_count": 27
        }
      ]
    },
    {
      "cell_type": "code",
      "source": [
        "se.add(1)\n",
        "se.add"
      ],
      "metadata": {
        "colab": {
          "base_uri": "https://localhost:8080/",
          "height": 194
        },
        "id": "U8562JmGeiTw",
        "outputId": "b9581432-6d95-43b8-d566-212ac69e78b2"
      },
      "execution_count": 28,
      "outputs": [
        {
          "output_type": "error",
          "ename": "AttributeError",
          "evalue": "ignored",
          "traceback": [
            "\u001b[0;31m---------------------------------------------------------------------------\u001b[0m",
            "\u001b[0;31mAttributeError\u001b[0m                            Traceback (most recent call last)",
            "\u001b[0;32m<ipython-input-28-bc4e714add00>\u001b[0m in \u001b[0;36m<cell line: 1>\u001b[0;34m()\u001b[0m\n\u001b[0;32m----> 1\u001b[0;31m \u001b[0mse\u001b[0m\u001b[0;34m.\u001b[0m\u001b[0madd\u001b[0m\u001b[0;34m(\u001b[0m\u001b[0;36m1\u001b[0m\u001b[0;34m)\u001b[0m\u001b[0;34m\u001b[0m\u001b[0;34m\u001b[0m\u001b[0m\n\u001b[0m\u001b[1;32m      2\u001b[0m \u001b[0mse\u001b[0m\u001b[0;34m.\u001b[0m\u001b[0madd\u001b[0m\u001b[0;34m(\u001b[0m\u001b[0;36m3\u001b[0m\u001b[0;34m)\u001b[0m\u001b[0;34m\u001b[0m\u001b[0;34m\u001b[0m\u001b[0m\n",
            "\u001b[0;31mAttributeError\u001b[0m: 'dict' object has no attribute 'add'"
          ]
        }
      ]
    },
    {
      "cell_type": "code",
      "source": [
        "def fun1(name):\n",
        "  name()"
      ],
      "metadata": {
        "id": "silCTUHQfDLX"
      },
      "execution_count": 29,
      "outputs": []
    },
    {
      "cell_type": "code",
      "source": [
        "def name():\n",
        "  print(\"in name function\")"
      ],
      "metadata": {
        "id": "W8olqKIEpN1G"
      },
      "execution_count": 30,
      "outputs": []
    },
    {
      "cell_type": "code",
      "source": [
        "type(name)"
      ],
      "metadata": {
        "colab": {
          "base_uri": "https://localhost:8080/"
        },
        "id": "9oAs3Ah1pTCH",
        "outputId": "029b762b-b74b-4de5-a572-9538c81b1acd"
      },
      "execution_count": 31,
      "outputs": [
        {
          "output_type": "execute_result",
          "data": {
            "text/plain": [
              "function"
            ]
          },
          "metadata": {},
          "execution_count": 31
        }
      ]
    },
    {
      "cell_type": "code",
      "source": [
        "fun1(name)"
      ],
      "metadata": {
        "colab": {
          "base_uri": "https://localhost:8080/"
        },
        "id": "Hg854b1VpU2m",
        "outputId": "c1d103a5-128d-40d3-e0a4-67d89b229683"
      },
      "execution_count": 32,
      "outputs": [
        {
          "output_type": "stream",
          "name": "stdout",
          "text": [
            "in name function\n"
          ]
        }
      ]
    },
    {
      "cell_type": "code",
      "source": [
        "str1 = \"my isname isisis jameis isis bond\";\n",
        "sub = \"is\";\n",
        "print(str1.count(sub,2))"
      ],
      "metadata": {
        "colab": {
          "base_uri": "https://localhost:8080/"
        },
        "id": "W0D9L0dEp7od",
        "outputId": "b56ee5c9-f202-499f-8c4d-17c8ddf5542f"
      },
      "execution_count": 40,
      "outputs": [
        {
          "output_type": "stream",
          "name": "stdout",
          "text": [
            "7\n"
          ]
        }
      ]
    },
    {
      "cell_type": "code",
      "source": [
        "\"This is a test\".count(\"the\")"
      ],
      "metadata": {
        "colab": {
          "base_uri": "https://localhost:8080/"
        },
        "id": "boUmRepXwuqn",
        "outputId": "6f6f8f2d-52a4-484a-8d9c-aa7fd28c15de"
      },
      "execution_count": 36,
      "outputs": [
        {
          "output_type": "execute_result",
          "data": {
            "text/plain": [
              "0"
            ]
          },
          "metadata": {},
          "execution_count": 36
        }
      ]
    },
    {
      "cell_type": "code",
      "source": [
        "help(str.count)"
      ],
      "metadata": {
        "colab": {
          "base_uri": "https://localhost:8080/"
        },
        "id": "Zq9sqHxDxjsg",
        "outputId": "e8ba47e9-bfe4-4a80-f4fa-09eb6db6a75b"
      },
      "execution_count": 39,
      "outputs": [
        {
          "output_type": "stream",
          "name": "stdout",
          "text": [
            "Help on method_descriptor:\n",
            "\n",
            "count(...)\n",
            "    S.count(sub[, start[, end]]) -> int\n",
            "    \n",
            "    Return the number of non-overlapping occurrences of substring sub in\n",
            "    string S[start:end].  Optional arguments start and end are\n",
            "    interpreted as in slice notation.\n",
            "\n"
          ]
        }
      ]
    },
    {
      "cell_type": "code",
      "source": [
        "def change_local(y):\n",
        "    y = 5  # if I do 2 + 3, same id, 25/5 different ids.\n",
        "    print(id(y))\n",
        "\n",
        "\n",
        "y = 5\n",
        "print(id(y))\n",
        "change_local(y)"
      ],
      "metadata": {
        "colab": {
          "base_uri": "https://localhost:8080/"
        },
        "id": "Q1TRUbfmyFQ3",
        "outputId": "fb5e0549-0ddd-48a2-e749-0f3aac363a49"
      },
      "execution_count": 44,
      "outputs": [
        {
          "output_type": "stream",
          "name": "stdout",
          "text": [
            "140637881762160\n",
            "140637881762160\n"
          ]
        }
      ]
    },
    {
      "cell_type": "code",
      "source": [],
      "metadata": {
        "id": "6Foosnsw2PvK"
      },
      "execution_count": null,
      "outputs": []
    }
  ]
}