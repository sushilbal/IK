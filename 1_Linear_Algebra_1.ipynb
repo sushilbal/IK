{
  "cells": [
    {
      "cell_type": "markdown",
      "metadata": {
        "id": "view-in-github",
        "colab_type": "text"
      },
      "source": [
        "<a href=\"https://colab.research.google.com/github/sushilbal/IK/blob/main/1_Linear_Algebra_1.ipynb\" target=\"_parent\"><img src=\"https://colab.research.google.com/assets/colab-badge.svg\" alt=\"Open In Colab\"/></a>"
      ]
    },
    {
      "cell_type": "markdown",
      "metadata": {
        "id": "DsEG8X73ogJd"
      },
      "source": [
        "# VECTORS"
      ]
    },
    {
      "cell_type": "markdown",
      "metadata": {
        "id": "xuWZ6T0Aop4Q"
      },
      "source": [
        "**Objectives**:\n",
        "- Understand the concept of vectors and their properties.\n",
        "- Perform vector operations such as addition, subtraction, and scalar multiplication.\n",
        "- Calculate the magnitude and direction of a vector.\n",
        "- Understand the concept of linear combinations and linear independence"
      ]
    },
    {
      "cell_type": "markdown",
      "metadata": {
        "id": "pjKEpQfBq59h"
      },
      "source": [
        "#1.1 Definition of vectors\n",
        "A Vector in Python is simply a one-dimensional array of lists.\n",
        "\n",
        "We use numpy.array() method to create vector"
      ]
    },
    {
      "cell_type": "code",
      "execution_count": null,
      "metadata": {
        "id": "RKBTXjjJossd",
        "colab": {
          "base_uri": "https://localhost:8080/"
        },
        "outputId": "2acd26eb-28ea-4b55-ac5e-4e596f182b56"
      },
      "outputs": [
        {
          "output_type": "stream",
          "name": "stdout",
          "text": [
            "Let's see what our vector looks like: \n",
            "[1 2 3 4]\n"
          ]
        }
      ],
      "source": [
        "import numpy as np\n",
        "myList = [1, 2, 3, 4]\n",
        "myVector = np.array(myList)\n",
        "\n",
        "print(\"Let's see what our vector looks like: \")\n",
        "print(myVector)"
      ]
    },
    {
      "cell_type": "markdown",
      "metadata": {
        "id": "dmZ5lqKQsnhC"
      },
      "source": [
        "Vectors can be horizontal or vertical. In the next code block, you can see the difference between the appearance of these vectors\n",
        "\n"
      ]
    },
    {
      "cell_type": "code",
      "execution_count": null,
      "metadata": {
        "id": "-QU9T64ipyCG",
        "colab": {
          "base_uri": "https://localhost:8080/"
        },
        "outputId": "1edded4e-e28d-43ba-80db-cde2ee22d81a"
      },
      "outputs": [
        {
          "output_type": "stream",
          "name": "stdout",
          "text": [
            "Horizontal Vector created from list: \n",
            "[1 2 3 4]\n",
            "\n",
            "Vertical Vector created from list: \n",
            "[[1]\n",
            " [2]\n",
            " [3]\n",
            " [4]]\n"
          ]
        }
      ],
      "source": [
        "horizontalVector = np.array([1, 2, 3, 4])\n",
        "verticalVector = np.array([[1],[2],[3],[4]])\n",
        "\n",
        "print(\"Horizontal Vector created from list: \")\n",
        "print(horizontalVector)\n",
        "print()\n",
        "\n",
        "print(\"Vertical Vector created from list: \")\n",
        "print(verticalVector)"
      ]
    },
    {
      "cell_type": "markdown",
      "metadata": {
        "id": "UdrVWG9mrF24"
      },
      "source": [
        "\n",
        "#1.2 Vector operations\n",
        "\n"
      ]
    },
    {
      "cell_type": "markdown",
      "metadata": {
        "id": "5j_OKwirrgGl"
      },
      "source": [
        "Numpy arrays (vectors) can be operated upon by the following operations. Some of these operations are:\n",
        " - Addition\n",
        " - Subtraction\n",
        " - Multiplication\n",
        " - Division\n",
        " - Dot Product\n",
        " - Cross Product"
      ]
    },
    {
      "cell_type": "markdown",
      "metadata": {
        "id": "mMBahbIktMP2"
      },
      "source": [
        "#### Addition\n",
        "The addition operation takes place in an element-wise manner i.e. element by element. As a result, the resultant vector would have the same length as that of the two additive vectors"
      ]
    },
    {
      "cell_type": "code",
      "execution_count": null,
      "metadata": {
        "id": "BY6A8HjdqRJX",
        "colab": {
          "base_uri": "https://localhost:8080/"
        },
        "outputId": "dee66472-4702-44ab-ce62-eee76d57afea"
      },
      "outputs": [
        {
          "output_type": "stream",
          "name": "stdout",
          "text": [
            "[11 22 33 44 59]\n"
          ]
        }
      ],
      "source": [
        "# Addition\n",
        "vec1 = np.array([10,20,30,40,50])\n",
        "vec2 = np.array([1,2,3,4,9])\n",
        "sum = vec1+vec2\n",
        "print(sum)"
      ]
    },
    {
      "cell_type": "markdown",
      "metadata": {
        "id": "rsXrfq96ts_O"
      },
      "source": [
        "#### Subtraction\n",
        "Similarly, the element-wise fashion would be followed in subtraction as well. The elements of vector 2 will get subtracted from vector 1.\n"
      ]
    },
    {
      "cell_type": "code",
      "execution_count": null,
      "metadata": {
        "id": "_zM7D7DNuGgI",
        "colab": {
          "base_uri": "https://localhost:8080/"
        },
        "outputId": "3a42e5cc-fe96-443d-eaab-45b95d40f427"
      },
      "outputs": [
        {
          "output_type": "stream",
          "name": "stdout",
          "text": [
            "[ 9 20]\n"
          ]
        }
      ],
      "source": [
        "# Subtraction\n",
        "vec1 = np.array([10,20]) # (N,E)\n",
        "vec2 = np.array([1,0]) # (S,W)\n",
        "sub = vec1-vec2\n",
        "print(sub)"
      ]
    },
    {
      "cell_type": "markdown",
      "metadata": {
        "id": "S7RNsHf7uibW"
      },
      "source": [
        "#### Multiplication\n",
        "In a vector multiplication, the elements of vector 1 get multiplied by the elements of vector 2 in an element-wise manner and the product vector is of the same length as of the multiplying vectors.\n",
        "In the code block below, for example, we can see that\n",
        "\n",
        "**mul[0] = vec1[0] * vec2[0]**\n",
        "\n",
        "**mul[1] = vec1[1] * vec2[1]**\n",
        "\n",
        "and so on...\n"
      ]
    },
    {
      "cell_type": "code",
      "execution_count": null,
      "metadata": {
        "id": "fwe-NOICuvjf"
      },
      "outputs": [],
      "source": [
        "# Multiplication\n",
        "vec1 = np.array([10,20,30,40,50])\n",
        "vec2 = np.array([1,2,3,4,5])\n",
        "mul = vec1*vec2\n",
        "print(mul)"
      ]
    },
    {
      "cell_type": "markdown",
      "metadata": {
        "id": "GUWJ-EFkvUu6"
      },
      "source": [
        "#### Division\n",
        "Similar to vector multiplication, in vector division, the resultant vector is the quotient values after carrying out element-by-element division operation on the two vectors\n",
        "In the code block below, for example, we can see that\n",
        "\n",
        "**div[0] = vec1[0] / vec2[0]**\n",
        "\n",
        "**div[1] = vec1[1] / vec2[1]**\n",
        "\n",
        "and so on...\n"
      ]
    },
    {
      "cell_type": "code",
      "execution_count": null,
      "metadata": {
        "id": "tShqvQnqvyoB"
      },
      "outputs": [],
      "source": [
        "# Division\n",
        "vec1 = np.array([10,20,30,40,50])\n",
        "vec2 = np.array([1,4,4,4,5])\n",
        "div = vec1/vec2\n",
        "print(div)"
      ]
    },
    {
      "cell_type": "markdown",
      "metadata": {
        "id": "pp_3_RhCFxsJ"
      },
      "source": [
        "#### Operations with Scalers\n",
        "All the mentioned operations can be done using scalers too. In that case, the scaler will be iterated over all the elements of the vector"
      ]
    },
    {
      "cell_type": "code",
      "execution_count": null,
      "metadata": {
        "id": "j48gzHBOGEBh"
      },
      "outputs": [],
      "source": [
        "# Operations using Scaler\n",
        "vec = np.array([1,2,3,4,5])\n",
        "scaler = 5\n",
        "\n",
        "print(scaler*vec)"
      ]
    },
    {
      "cell_type": "markdown",
      "metadata": {
        "id": "fzclrcsbwJ42"
      },
      "source": [
        "#### Vector Dot Product\n",
        "In a vector dot product, we perform the summation of the product of the two vectors in an element-wise fashion. As a result, the resultant is not a vector, but a scalar value\n"
      ]
    },
    {
      "cell_type": "code",
      "execution_count": null,
      "metadata": {
        "id": "irggVQJLwXHv"
      },
      "outputs": [],
      "source": [
        "# Vector Dot Product\n",
        "vec1 = np.array([1,3,5])\n",
        "vec2 = np.array([1,1,1])\n",
        "dotProduct = vec1.dot(vec2)\n",
        "print(dotProduct)"
      ]
    },
    {
      "cell_type": "markdown",
      "source": [
        "#### Vector Cross Product"
      ],
      "metadata": {
        "id": "_WTcTNLgukka"
      }
    },
    {
      "cell_type": "code",
      "source": [
        "# Vector Cross Product\n",
        "vec1 = np.array([0, 2, 0])\n",
        "vec2 = np.array([0, 0, 3])\n",
        "mul =  np.cross(vec1, vec2)\n",
        "print(mul)"
      ],
      "metadata": {
        "id": "cr_0r82VuX8S"
      },
      "execution_count": null,
      "outputs": []
    },
    {
      "cell_type": "markdown",
      "metadata": {
        "id": "qNQW9Fk7BvwM"
      },
      "source": [
        "# 1.3 Magnitude and direction\n",
        "\n",
        "The magnitude of a vector is the square root of sum of element-wise squares of values in the vector. A simple way to find this would be to take the square root of the dot product of a vector with itself."
      ]
    },
    {
      "cell_type": "code",
      "execution_count": null,
      "metadata": {
        "id": "2enY7oqoCbsT"
      },
      "outputs": [],
      "source": [
        "# Magnitude of Vector\n",
        "from math import sqrt\n",
        "vec = np.array([3,4])\n",
        "dotProd = vec.dot(vec)\n",
        "magnitude = sqrt(dotProd)\n",
        "\n",
        "print(f\"Magnitude of the vector: {vec} is {magnitude}\")"
      ]
    },
    {
      "cell_type": "markdown",
      "metadata": {
        "id": "Dy4jF3QSC4Gy"
      },
      "source": [
        "A unit vector in the direction of the vector can be found out by dividing the vector by the magnitude of the vector."
      ]
    },
    {
      "cell_type": "code",
      "execution_count": null,
      "metadata": {
        "id": "R1exbgCTDozE"
      },
      "outputs": [],
      "source": [
        "# direction of the vector\n",
        "vec = np.array([3,4])\n",
        "magnitude = sqrt(vec.dot(vec))\n",
        "\n",
        "unitVec = vec/magnitude\n",
        "print(f\"Unit vector in the direction of the vector: {vec} is {unitVec}\")"
      ]
    },
    {
      "cell_type": "markdown",
      "metadata": {
        "id": "yKvZVCbVrHoD"
      },
      "source": [
        "# 1.4 Linear combinations and linear independence"
      ]
    },
    {
      "cell_type": "markdown",
      "metadata": {
        "id": "CCkxdHKeE9mN"
      },
      "source": [
        "A linear combination of two (or more) vectors is the vector obtained by adding the vectors after multiplying them by scalar values."
      ]
    },
    {
      "cell_type": "code",
      "execution_count": null,
      "metadata": {
        "id": "Goag4jPcFPzv"
      },
      "outputs": [],
      "source": [
        "# Linear Combinations\n",
        "vec1 = np.array([1,2])\n",
        "vec2 = np.array([3,1])\n",
        "\n",
        "s1 = int(input(\"Input the scaler with which to multiply the first vector: \"))\n",
        "s2 = int(input(\"Input the scaler with which to multiply the second vector: \"))\n",
        "\n",
        "resultant = vec1*s1 + vec2*s2\n",
        "\n",
        "print(f\"{vec1} * {s1} + {vec2} * {s2} = {resultant}\")"
      ]
    },
    {
      "cell_type": "markdown",
      "metadata": {
        "id": "qAg5qHMyrIII"
      },
      "source": [
        "2. Linear Independence:\n",
        "Let's consider two vectors a = (1, 3) and b = (2, 6). To check if these vectors are linearly independent, we need to see if there are any non-zero scalars x and y such that:\n",
        "x * a + y * b = 0\n",
        "Let's try to find such scalars:\n",
        "x * (1, 3) + y * (2, 6) = (0, 0)\n",
        "(1x + 2y, 3x + 6y) = (0, 0)\n",
        "From the first component, we have:\n",
        "1x + 2y = 0 => x = -2y\n",
        "From the second component, we have:\n",
        "3x + 6y = 0\n",
        "Substituting x = -2y, we get:\n",
        "3(-2y) + 6y = 0 => -6y + 6y = 0\n",
        "Since the equation is true for any value of y, we can choose y = 1, which gives us x = -2. Therefore, we have: -2 * (1, 3) + 1 * (2, 6) = (0, 0)"
      ]
    },
    {
      "cell_type": "code",
      "execution_count": null,
      "metadata": {
        "id": "924e350e"
      },
      "outputs": [],
      "source": [
        "# importing the numpy library\n",
        "import numpy as np\n",
        "vec1 = np.array([1,3])\n",
        "vec2 = np.array([2,6])\n",
        "vec_dp = np.dot(vec1, vec2)/np.linalg.norm(vec1)/np.linalg.norm(vec2)\n",
        "print(vec_dp)"
      ]
    },
    {
      "cell_type": "markdown",
      "metadata": {
        "id": "2ce919a4"
      },
      "source": [
        "### 2.1 Definition of Matrices\n",
        "A Matrix is a 2-Dimensional Array comprising of rows and columns"
      ]
    },
    {
      "cell_type": "code",
      "execution_count": null,
      "metadata": {
        "id": "8ae8b3b4"
      },
      "outputs": [],
      "source": [
        "M = np.array([[1, 2, 3], [4, 5, 6], [7, 8, 9]])\n",
        "print(M)"
      ]
    },
    {
      "cell_type": "markdown",
      "metadata": {
        "id": "3bafb9a9"
      },
      "source": [
        "### Matrix Scalar Operations\n",
        "1. Addition\n",
        "2. Subtraction\n",
        "3. Multiplication\n",
        "4. Division"
      ]
    },
    {
      "cell_type": "code",
      "execution_count": null,
      "metadata": {
        "id": "52faf5f1"
      },
      "outputs": [],
      "source": [
        "# addition: a constant is added to every element of the matrix\n",
        "A = np.array([[1, 2, 3], [4, 5, 6], [7, 8, 9]])\n",
        "R = 10 + A\n",
        "print(R)"
      ]
    },
    {
      "cell_type": "code",
      "execution_count": null,
      "metadata": {
        "id": "d45a5fcd"
      },
      "outputs": [],
      "source": [
        "# subtraction: a constant is subtracted from every element of the matrix\n",
        "A = np.array([[1, 2, 3], [4, 5, 6], [7, 8, 9]])\n",
        "R = A - 10\n",
        "print(R)"
      ]
    },
    {
      "cell_type": "code",
      "execution_count": null,
      "metadata": {
        "id": "f8f81384"
      },
      "outputs": [],
      "source": [
        "# multiplication: a constant is multiplied to every element of the matrix\n",
        "A = np.array([[1, 2, 3], [4, 5, 6], [7, 8, 9]])\n",
        "R = A * -2\n",
        "print(R)"
      ]
    },
    {
      "cell_type": "code",
      "execution_count": null,
      "metadata": {
        "id": "05241713"
      },
      "outputs": [],
      "source": [
        "# division: a constant is divided from every element of the matrix\n",
        "A = np.array([[1, 2] , [4, 5], [7, 8]])\n",
        "R = A / 10\n",
        "print(R)"
      ]
    },
    {
      "cell_type": "markdown",
      "metadata": {
        "id": "8f44a68e"
      },
      "source": [
        "### 2.3 Matrix Arithmetic Operations\n",
        "1. Addition\n",
        "2. Subtraction\n",
        "3. Multiplication\n",
        "4. Division"
      ]
    },
    {
      "cell_type": "code",
      "execution_count": null,
      "metadata": {
        "id": "3c88a59d"
      },
      "outputs": [],
      "source": [
        "# two matrices are added where each element is the sum of elements at the corresponding positions\n",
        "# both matrices should be of the same dimensions\n",
        "# the resulting matrice is of the same dimension as its constituents\n",
        "A = np.array([[1, 2, 3], [4, 5, 6], [7, 8, 9]])\n",
        "B = np.array([[1, 2, 3], [4, 5, 6], [7, 8, 9]])\n",
        "R = A + B\n",
        "print(R)"
      ]
    },
    {
      "cell_type": "code",
      "execution_count": null,
      "metadata": {
        "id": "b3b08837"
      },
      "outputs": [],
      "source": [
        "# two matrices are subtracted where each element is the differnce of elements at the corresponding positions\n",
        "# both matrices should be of the same dimensions\n",
        "# the resulting matrice is of the same dimension as its constituents\n",
        "A = np.array([[1, 2, 3], [4, 5, 6], [7, 8, 9]])\n",
        "B = np.array([[1, 1, 1], [1, 1, 1], [1, 1, 1]])\n",
        "R = A - B\n",
        "print(R)"
      ]
    },
    {
      "cell_type": "code",
      "execution_count": null,
      "metadata": {
        "id": "48a81061"
      },
      "outputs": [],
      "source": [
        "# two matrices are multiplied where each element is the product of elements at the corresponding positions\n",
        "# both matrices should be of the same dimensions\n",
        "# the resulting matrice is of the same dimension as its constituents\n",
        "A = np.array([[1, 2, 3], [4, 5, 6], [7, 8, 9]])\n",
        "B = np.array([[1, 2, 3], [4, 5, 6], [7, 8, 9]])\n",
        "R = A * B\n",
        "print(R)"
      ]
    },
    {
      "cell_type": "code",
      "execution_count": null,
      "metadata": {
        "id": "b6fa0a5e"
      },
      "outputs": [],
      "source": [
        "# two matrices are subtracted where each element is the division of elements at the corresponding positions\n",
        "# both matrices should be of the same dimensions\n",
        "# the resulting matrice is of the same dimension as its constituents\n",
        "A = np.array([[1, 2, 3], [4, 5, 6], [7, 8, 9]])\n",
        "B = np.array([[1, 2, 3], [4, 5, 6], [7, 8, 9]])\n",
        "R = A / B\n",
        "print(R)"
      ]
    },
    {
      "cell_type": "markdown",
      "metadata": {
        "id": "8572b23c"
      },
      "source": [
        "### 2.4 Matrix Multiplication\n",
        "Matrix multiplication is an operation performed on two matrices to produce a new matrix. The operation involves multiplying corresponding elements of each row of the first matrix by the corresponding elements of each column of the second matrix and adding the results.\n",
        "\n",
        "A is a matrix of dimensions m x n, B is a matrix of dimensions n x p.\n",
        "\n",
        "    R[i][j] = Sum(A[i][k]*B[k][j]) where k varies from 1 to n\n",
        "\n",
        "The resulting matrix has the same number of rows as the first matrix and the same number of columns as the second matrix. The number of columns in the first matrix must be equal to the number of rows in the second matrix for matrix multiplication to be possible.\n",
        "\n",
        "Matrix multiplication is not commutative, meaning the order of the matrices matters. That is, the product of matrix A and matrix B is not necessarily equal to the product of matrix B and matrix A."
      ]
    },
    {
      "cell_type": "code",
      "execution_count": null,
      "metadata": {
        "id": "fbe33c10"
      },
      "outputs": [],
      "source": [
        "A = np.array([[ 2, 4, 6], [8, 10, 12]])\n",
        "B = np.array([[3, 7, 0], [8, 0, -2], [0, -4, -5]])\n",
        "R = np.matmul(A, B)\n",
        "print(R)"
      ]
    },
    {
      "cell_type": "code",
      "source": [],
      "metadata": {
        "id": "bIjw7ZZyJUIy"
      },
      "execution_count": null,
      "outputs": []
    },
    {
      "cell_type": "markdown",
      "metadata": {
        "id": "fdd327f9"
      },
      "source": [
        "### 2.5 Determinant\n",
        "In linear algebra, the determinant is a scalar value that can be computed from a square matrix. The determinant of a matrix is a mathematical tool that can be used to determine whether the matrix has an inverse, among other things.\n",
        "\n",
        "The determinant is computed by performing a series of mathematical operations on the matrix. Specifically, the determinant of an n x n matrix A is defined as:\n",
        "\n",
        "det(A) = sum over all permutations of the product of the sign of the permutation and the product of the elements of A corresponding to that permutation.\n",
        "\n",
        "In simpler terms, this means that you take all possible ways to reorder the rows and columns of the matrix, multiply the elements in the diagonal, and sum or subtract them depending on the parity of the permutation.\n",
        "\n",
        "For example, for a 2x2 matrix A = [[a, b], [c, d]], the determinant is given by:\n",
        "\n",
        "det(A) = ad - bc.\n",
        "\n",
        "The determinant can be used to test if a matrix is invertible or singular, to compute the eigenvalues of a matrix, to solve systems of linear equations, and more."
      ]
    },
    {
      "cell_type": "code",
      "execution_count": null,
      "metadata": {
        "id": "21189ccb"
      },
      "outputs": [],
      "source": [
        "A = np.array([[3, 7], [0, -4]])\n",
        "D = np.linalg.det(A)\n",
        "print(round(D))"
      ]
    },
    {
      "cell_type": "markdown",
      "metadata": {
        "id": "694185e6"
      },
      "source": [
        "### 2.6 Matrix Rank\n",
        "The rank of a matrix is a fundamental concept in linear algebra that measures the dimension of the vector space spanned by its rows or columns. It is defined as the maximum number of linearly independent rows or columns in the matrix.\n",
        "\n",
        "More formally, the rank of an m x n matrix A is the dimension of the vector space spanned by the rows or the columns of A. If the rows of A are linearly independent, then the rank of A is equal to the number of rows. If the columns of A are linearly independent, then the rank of A is equal to the number of columns.\n",
        "\n",
        "The rank of a matrix has many important applications in linear algebra and other fields. For example, the rank of a matrix can be used to determine whether a system of linear equations has a unique solution, or to find the dimension of the solution space. If the rank of the coefficient matrix is less than the rank of the augmented matrix, then the system of equations has no solution. If the ranks are equal and equal to the number of variables, then the system has a unique solution.\n",
        "\n",
        "The rank of a matrix is also closely related to the determinant of the matrix. Specifically, a matrix is invertible if and only if its determinant is nonzero, which is equivalent to its rank being equal to its size."
      ]
    },
    {
      "cell_type": "code",
      "execution_count": null,
      "metadata": {
        "id": "c4497b5f"
      },
      "outputs": [],
      "source": [
        "A = np.array([[1, 2, 3], [4, 5, 6], [7, 8, 9]])\n",
        "rank = np.linalg.matrix_rank(A)\n",
        "print(rank)"
      ]
    },
    {
      "cell_type": "markdown",
      "metadata": {
        "id": "-b7Pl0NBLwK1"
      },
      "source": [
        "# Transpose of a Matrix\n",
        "\n",
        "**Objectives**:\n",
        "- Understand the concept of matrix transpose and its properties.\n",
        "- Calculate the transpose of a matrix.\n"
      ]
    },
    {
      "cell_type": "markdown",
      "metadata": {
        "id": "SuT2WW3NMEjg"
      },
      "source": [
        "# 3.1 What is matrix transpose?\n",
        "\n",
        "The transpose of a matrix is an operation that flips the matrix over its diagonal. The transpose of a matrix A is denoted by A^T and is obtained by reflecting the elements of A across its diagonal.\n",
        "\n",
        "Formally, if A is an m × n matrix, then its transpose A^T is an n × m matrix such that the element at the ith row and jth column of A is the element at the jth row and ith column of A^T, that is,\n",
        "\n",
        "`(A^T)[i][j] = A[j][i]`"
      ]
    },
    {
      "cell_type": "markdown",
      "metadata": {
        "id": "rlVzB1ORM9Bf"
      },
      "source": [
        "# 3.2 Properties of Transpose\n",
        "\n",
        "\n",
        "\n",
        "1.   `[MT]T = M`\n",
        "\n",
        "  The transpose of a transpose of a matrix is the matrix itself\n",
        "2.   `(aM)T = aMT`\n",
        "\n",
        "  If there’s a scalar a, then the transpose of the matrix M times the scalar (a) is equal to the constant times the transpose of the matrix M\n",
        "3. `(M + N)T = MT + NT`\n",
        "\n",
        "  The sum of transposes of matrices is equal to the transpose of the sum of two matrices\n",
        "\n",
        "4. `(MN)T = NT MT`\n",
        "\n",
        "  The product of the transposes of two matrices in reverse order is equal to the transpose of the product of them\n",
        "\n"
      ]
    },
    {
      "cell_type": "markdown",
      "metadata": {
        "id": "MiEit1GROX1u"
      },
      "source": [
        "# 3.3 Calculate the transpose of a matrix"
      ]
    },
    {
      "cell_type": "code",
      "execution_count": null,
      "metadata": {
        "id": "BaLtW0ejLp5G"
      },
      "outputs": [],
      "source": [
        "import numpy as np\n",
        "\n",
        "# Create a 2x2 matrix\n",
        "matrix = np.array([[1, 2], [3, 4]])\n",
        "\n",
        "# Calculate the transpose of the matrix\n",
        "transpose_matrix = np.transpose(matrix)\n",
        "\n",
        "transpose_of_transpose = np.transpose(transpose_matrix)\n",
        "\n",
        "print(\"Original matrix:\\n\", matrix)\n",
        "print(\"Transpose matrix:\\n\", transpose_matrix)\n",
        "print(\"Transpose of transpose matrix:\\n\", transpose_of_transpose)"
      ]
    },
    {
      "cell_type": "markdown",
      "metadata": {
        "id": "fa263b8e"
      },
      "source": [
        "### 4.1 What is Matrix Inverse?\n",
        "The inverse of a square matrix A is another matrix A^-1 that, when multiplied by A, gives the identity matrix I.\n",
        "\n",
        "More formally, for a square matrix A, its inverse A^-1 is defined as:\n",
        "\n",
        "A * A^-1 = A^-1 * A = I\n",
        "\n",
        "where I is the identity matrix of the same size as A.\n",
        "\n",
        "Not all square matrices have inverses, and a square matrix A has an inverse if and only if its determinant is nonzero. In that case, the inverse can be found using a formula that involves the determinant and the adjugate (also known as the classical adjoint) of A.\n",
        "\n",
        "The adjugate of a matrix A, denoted adj(A), is the transpose of the matrix of cofactors of A, where the cofactor of an element a_ij is (-1)^(i+j) times the determinant of the submatrix obtained by deleting the i-th row and j-th column of A.\n",
        "\n",
        "The formula for the inverse of A is then:\n",
        "\n",
        "A^-1 = (1/det(A)) * adj(A)\n",
        "\n",
        "where det(A) is the determinant of A.\n",
        "\n",
        "The inverse of a matrix has many important applications, such as solving systems of linear equations, finding eigenvectors and eigenvalues, and diagonalizing matrices."
      ]
    },
    {
      "cell_type": "markdown",
      "metadata": {
        "id": "6ca7d3a8"
      },
      "source": [
        "### 4.2 Properties of Matrix Inverse\n",
        "1. If A is an invertible matrix, then its inverse A^-1 is unique.\n",
        "2. If A and B are invertible matrices of the same size, then AB is invertible and (AB)^-1 = B^-1 * A^-1.\n",
        "3. If A is an invertible matrix, then (A^-1)^-1 = A.\n",
        "4. If A is an invertible matrix, then the transpose of A, denoted A^T, is invertible, and (A^T)^-1 = (A^-1)^T.\n",
        "5. If A is an invertible matrix and c is a nonzero scalar, then the matrix cA is invertible and (cA)^-1 = (1/c) * A^-1.\n",
        "6. If A is an invertible matrix and k is a positive integer, then A^k is invertible and (A^k)^-1 = (A^-1)^k.\n",
        "7. If A is a symmetric positive definite matrix, then it is invertible and its inverse is also symmetric positive definite.\n",
        "\n",
        "These properties are useful in many areas of mathematics, including linear algebra, differential equations, optimization, and statistics."
      ]
    },
    {
      "cell_type": "markdown",
      "metadata": {
        "id": "13c9769f"
      },
      "source": [
        "### 4.3 Calculating the inverse of a Matrix"
      ]
    },
    {
      "cell_type": "code",
      "execution_count": null,
      "metadata": {
        "id": "c4c71d68"
      },
      "outputs": [],
      "source": [
        "import numpy as np\n",
        "A = [[1, 2, 3], [4, 5, 6], [7, 2, 9]]\n",
        "AInv = np.linalg.inv(A)\n",
        "print(AInv)\n",
        "print(np.round(np.matmul(AInv,A)))\n",
        "print(np.round(np.matmul(A,AInv)))"
      ]
    },
    {
      "cell_type": "markdown",
      "metadata": {
        "id": "XrU-jx0jww2h"
      },
      "source": [
        "# Dot Product Of Matrices\n",
        "The dot product of two matrices A and B is defined as the sum of the products of corresponding elements of the matrices.\n",
        "\n",
        "To find the dot product of two matrices, we first need to ensure that their dimensions are compatible. Specifically, the number of columns of matrix A must be equal to the number of rows of matrix B. If this condition is satisfied, then we can compute the dot product of A and B as follows:\n",
        "\n",
        "1. Create a new matrix C with dimensions (m x p), where m is the number of rows of A and p is the number of columns of B.\n",
        "\n",
        "2. For each element in the resulting matrix C, compute the dot product of the corresponding row of A and column of B.\n",
        "\n",
        "3. To compute the dot product, multiply each corresponding pair of elements in the row and column, and then sum the products.\n",
        "\n",
        "4. Place the resulting sum in the corresponding element of matrix C."
      ]
    },
    {
      "cell_type": "code",
      "execution_count": null,
      "metadata": {
        "id": "Rk8Zz7CUwTBi"
      },
      "outputs": [],
      "source": [
        "import numpy as np\n",
        "matrix1 = np.array([[1,2,3],[4,5,6],[7,8,9]])\n",
        "matrix2 = np.array([[2,2,2],[2,2,2],[2,2,2]])\n",
        "\n",
        "\n",
        "print(f\"Matrix 1 : \\n{matrix1}\\n Matrix 2: \\n{matrix2}\\n\")\n",
        "\n",
        "dotProduct = matrix1.dot(matrix2)\n",
        "print(f\"Dot Product of the two matrices: \\n{dotProduct}\")"
      ]
    },
    {
      "cell_type": "markdown",
      "metadata": {
        "id": "DeqwolBcddQp"
      },
      "source": [
        "# Eigenvalues and Eigenvectors\n",
        "An eigenvector of a matrix A is a nonzero vector x that, when multiplied by A, results in a scalar multiple of x. This scalar multiple is called the eigenvalue corresponding to the eigenvector x. Mathematically, we can represent this as:\n",
        "\n",
        "A x = λ x\n",
        "\n",
        "where λ is the eigenvalue and x is the eigenvector."
      ]
    },
    {
      "cell_type": "code",
      "execution_count": null,
      "metadata": {
        "id": "YgdL8gO7dTrN"
      },
      "outputs": [],
      "source": [
        "import numpy as np\n",
        "\n",
        "A = np.mat([[2,0],[0,1]])\n",
        "print(\"A: \\n\", A)\n",
        "\n",
        "eigenvalue, eigenvector = np.linalg.eig(A)\n",
        "\n",
        "print(\"First tuple of eig: \", eigenvalue)\n",
        "print(\"Second tuple of eig: \\n\", eigenvector)"
      ]
    },
    {
      "cell_type": "markdown",
      "metadata": {
        "id": "f7z21kGvdoWI"
      },
      "source": [
        "Eigenvalues and eigenvectors are important in many areas of mathematics and science, and have numerous applications in physics, engineering, and computer science. Some of the key properties of eigenvalues and eigenvectors include:\n",
        "\n",
        " - If A is an n × n matrix, then it has n eigenvalues and n corresponding eigenvectors (not necessarily distinct).\n",
        "\n",
        " - If A is a symmetric matrix, then its eigenvalues are real and its eigenvectors are orthogonal.\n",
        "\n",
        " - If A is a real matrix, then its complex eigenvalues occur in complex conjugate pairs, and its eigenvectors may have complex entries.\n",
        "\n",
        " - The product of the eigenvalues of A is equal to the determinant of A.\n",
        "\n",
        " - If A is invertible, then its eigenvectors form a basis for the vector space on which A acts.\n",
        "\n",
        " - The trace of A (i.e., the sum of its diagonal entries) is equal to the sum of its eigenvalues.\n",
        "\n",
        "Eigenvalues and eigenvectors are used in a variety of applications, such as solving systems of differential equations, diagonalizing matrices, and performing spectral analysis. They are also important in machine learning and data analysis, where they are used for dimensionality reduction and clustering."
      ]
    },
    {
      "cell_type": "code",
      "source": [],
      "metadata": {
        "id": "VPap6G7ay10h"
      },
      "execution_count": null,
      "outputs": []
    }
  ],
  "metadata": {
    "colab": {
      "provenance": [],
      "include_colab_link": true
    },
    "kernelspec": {
      "display_name": "Python 3 (ipykernel)",
      "language": "python",
      "name": "python3"
    },
    "language_info": {
      "codemirror_mode": {
        "name": "ipython",
        "version": 3
      },
      "file_extension": ".py",
      "mimetype": "text/x-python",
      "name": "python",
      "nbconvert_exporter": "python",
      "pygments_lexer": "ipython3",
      "version": "3.10.8"
    }
  },
  "nbformat": 4,
  "nbformat_minor": 0
}